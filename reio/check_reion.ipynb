{
 "cells": [
  {
   "cell_type": "code",
   "execution_count": 1,
   "metadata": {},
   "outputs": [],
   "source": [
    "import numpy as np, curvedsky as cs, plottools as pl, cmb as CMB, local\n",
    "from matplotlib.pyplot import *"
   ]
  },
  {
   "cell_type": "code",
   "execution_count": 2,
   "metadata": {},
   "outputs": [],
   "source": [
    "def snr_ilens(Ag,ucl,L,corr=1.):\n",
    "    #Nl = 1./(1./Ag['EB']+1./Ag['TB']+1./Ag['BB'])\n",
    "    SN = (2*L+1.)*ucl[3]/Ag['BB'] * corr**2\n",
    "    sn = np.pi/180. * np.sqrt( np.sum(SN[2:]) )\n",
    "    return sn"
   ]
  },
  {
   "cell_type": "code",
   "execution_count": 3,
   "metadata": {},
   "outputs": [],
   "source": [
    "def snr_eb(lcl,ocl,L,Lmin,Lmax):\n",
    "    SN = (2*L[Lmin:Lmax+1]+1.)*(lcl[1,Lmin:Lmax+1]-lcl[2,Lmin:Lmax+1])**2/( ocl[1,Lmin:Lmax+1]*ocl[2,Lmin:Lmax+1] )\n",
    "    sn = np.pi/180. * 2. * np.sqrt( np.sum(SN) ) \n",
    "    return sn"
   ]
  },
  {
   "cell_type": "code",
   "execution_count": 4,
   "metadata": {},
   "outputs": [],
   "source": [
    "Lmax  = 3000       # maximum multipole of output normalization\n",
    "L = np.linspace(0,Lmax,Lmax+1)\n",
    "sig = 1.\n",
    "theta = 1.\n",
    "alpha = .1\n",
    "lmin, lmax = 2, 10\n",
    "rlmin, rlmax = 2, 3000"
   ]
  },
  {
   "cell_type": "code",
   "execution_count": 5,
   "metadata": {},
   "outputs": [],
   "source": [
    "ucl = CMB.read_camb_cls('../data_local/cosmo2017_10K_acc3_scalCls.dat',output='array')[:,:Lmax+1]\n",
    "lcl = CMB.read_camb_cls('../data_local/cosmo2017_10K_acc3_lensedCls.dat',ftype='lens',output='array')[:,:Lmax+1]"
   ]
  },
  {
   "cell_type": "code",
   "execution_count": 13,
   "metadata": {},
   "outputs": [],
   "source": [
    "ClG = local.add_noise(lcl,sig,theta,lBmin=2,alpha=alpha,fg=True)\n",
    "ClS = local.add_noise(lcl,2.,30.,alpha=alpha,lBmin=2,fg=True)"
   ]
  },
  {
   "cell_type": "code",
   "execution_count": 14,
   "metadata": {},
   "outputs": [
    {
     "data": {
      "text/plain": [
       "[<matplotlib.lines.Line2D at 0x7fbf34e9fba8>]"
      ]
     },
     "execution_count": 14,
     "metadata": {},
     "output_type": "execute_result"
    },
    {
     "data": {
      "image/png": "[encoded data removed]",
      "text/plain": [
       "<Figure size 432x288 with 1 Axes>"
      ]
     },
     "metadata": {
      "needs_background": "light"
     },
     "output_type": "display_data"
    }
   ],
   "source": [
    "ylim(1e-21,1e-16)\n",
    "loglog(L[lmin:],ClG[2,lmin:])\n",
    "loglog(L[lmin:],ClS[2,lmin:])\n",
    "loglog(L[lmin:],lcl[2,lmin:]*alpha)"
   ]
  },
  {
   "cell_type": "code",
   "execution_count": 15,
   "metadata": {},
   "outputs": [],
   "source": [
    "rcl = lcl.copy()\n",
    "rcl[:,lmax+1:] = 0."
   ]
  },
  {
   "cell_type": "code",
   "execution_count": 16,
   "metadata": {},
   "outputs": [],
   "source": [
    "sigma_eb = 1./snr_eb(rcl,ClS,L,lmin,lmax)"
   ]
  },
  {
   "cell_type": "code",
   "execution_count": 17,
   "metadata": {},
   "outputs": [
    {
     "name": "stderr",
     "output_type": "stream",
     "text": [
      "/global/homes/t/toshiyan/.conda/envs/loc/lib/python3.7/site-packages/ipykernel_launcher.py:3: RuntimeWarning: invalid value encountered in true_divide\n",
      "  This is separate from the ipykernel package so we can avoid doing imports until\n"
     ]
    }
   ],
   "source": [
    "Ag = local.rec(rlmax,rlmin,rlmax,rcl[:,:rlmax+1],ClG[:,:rlmax+1],qdo=['BBa'],ocl1=ClS[:,:rlmax+1])\n",
    "sigma_rec = 1./snr_ilens(Ag,ucl[:,:rlmax+1],L[:rlmax+1],corr=1.)"
   ]
  },
  {
   "cell_type": "code",
   "execution_count": 18,
   "metadata": {},
   "outputs": [
    {
     "name": "stderr",
     "output_type": "stream",
     "text": [
      "/global/homes/t/toshiyan/.conda/envs/loc/lib/python3.7/site-packages/ipykernel_launcher.py:3: RuntimeWarning: invalid value encountered in true_divide\n",
      "  This is separate from the ipykernel package so we can avoid doing imports until\n"
     ]
    }
   ],
   "source": [
    "Ag = local.rec(rlmax,rlmin,rlmax,rcl[:,:rlmax+1],ClG[:,:rlmax+1],qdo=['BB'])\n",
    "sigma_rec0 = 1./snr_ilens(Ag,ucl[:,:rlmax+1],L[:rlmax+1],corr=1.)"
   ]
  },
  {
   "cell_type": "code",
   "execution_count": 19,
   "metadata": {},
   "outputs": [
    {
     "name": "stdout",
     "output_type": "stream",
     "text": [
      "0.024156603815130163 0.08669129488110261 0.06444783663364252\n"
     ]
    }
   ],
   "source": [
    "print(sigma_eb,sigma_rec,sigma_rec0)"
   ]
  },
  {
   "cell_type": "code",
   "execution_count": null,
   "metadata": {},
   "outputs": [],
   "source": []
  }
 ],
 "metadata": {
  "kernelspec": {
   "display_name": "py4so",
   "language": "python",
   "name": "py4so"
  },
  "language_info": {
   "codemirror_mode": {
    "name": "ipython",
    "version": 3
   },
   "file_extension": ".py",
   "mimetype": "text/x-python",
   "name": "python",
   "nbconvert_exporter": "python",
   "pygments_lexer": "ipython3",
   "version": "3.7.2"
  }
 },
 "nbformat": 4,
 "nbformat_minor": 4
}

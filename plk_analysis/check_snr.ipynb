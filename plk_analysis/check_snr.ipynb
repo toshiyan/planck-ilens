{
 "cells": [
  {
   "cell_type": "code",
   "execution_count": 1,
   "metadata": {},
   "outputs": [],
   "source": [
    "import numpy as np, curvedsky as cs, plottools as pl, cmb as CMB, cosmology, healpy as hp, local\n",
    "from matplotlib.pyplot import *\n",
    "import warnings\n",
    "warnings.filterwarnings(\"ignore\")\n",
    "ac2rad  = np.pi/10800.\n",
    "deg2rad = np.pi/180."
   ]
  },
  {
   "cell_type": "code",
   "execution_count": 2,
   "metadata": {},
   "outputs": [],
   "source": [
    "def noise(lcl,sigp,theta,nu,name,dalpha=1.):\n",
    "    lmax = len(lcl[0,:]) - 1\n",
    "    L = np.linspace(0,lmax,lmax+1)\n",
    "    nl = np.zeros((4,lmax+1))\n",
    "    nl[0,:] = .5*(sigp*ac2rad/CMB.Tcmb)**2*np.exp(L*(L+1)*(theta*ac2rad)**2/8./np.log(2.))\n",
    "    nl[1,:] = 2*nl[0,:]\n",
    "    nl[2,:] = 2*nl[0,:]\n",
    "    if nu!=0.:\n",
    "        fEE, fBB = local.foreground(nu,L,name)\n",
    "        nl[1,:] += fEE\n",
    "        nl[2,:] += fBB\n",
    "    Lcl = lcl.copy()\n",
    "    Lcl[2,:] *= dalpha\n",
    "    return Lcl + nl"
   ]
  },
  {
   "cell_type": "code",
   "execution_count": 3,
   "metadata": {},
   "outputs": [],
   "source": [
    "def rec(Lmax,rlmin,rlmax,lcl,ocl):\n",
    "    Ag = {}\n",
    "    #Ag['TE'], __ = cs.norm_ilens.qte(Lmax,rlmin,rlmax,lcl[3,:],ocl[0,:],ocl[1,:])\n",
    "    #Ag['EE'], __ = cs.norm_ilens.qee(Lmax,rlmin,rlmax,lcl[1,:],ocl[1,:])\n",
    "    Ag['TB'] = cs.norm_imag.qtb('lens',Lmax,rlmin,rlmax,lcl[3,:],ocl[0,:],ocl[2,:])[0]\n",
    "    Ag['EB'] = cs.norm_imag.qeb('lens',Lmax,rlmin,rlmax,lcl[1,:],ocl[1,:],ocl[2,:])[0]\n",
    "    Ag['BB'] = cs.norm_imag.qbb('lens',Lmax,rlmin,rlmax,lcl[1,:],ocl[2,:])[0]\n",
    "    return Ag"
   ]
  },
  {
   "cell_type": "code",
   "execution_count": 15,
   "metadata": {},
   "outputs": [],
   "source": [
    "def snr_ilens(Ag,ucl,L,q,Lmin=8,corr=1.,fsky=.6):\n",
    "    if q=='MV':\n",
    "        Nl = 1./(1./Ag['EB']+1./Ag['TB']+1./Ag['BB'])\n",
    "    elif q=='noBB':\n",
    "        Nl = 1./(1./Ag['EB']+1./Ag['TB'])\n",
    "    else:\n",
    "        Nl = Ag[q]\n",
    "    SN = (2*L+1.)*ucl[3]/Nl * corr**2 * fsky\n",
    "    sn = deg2rad * np.sqrt( np.sum(SN[Lmin:]) )\n",
    "    return 1./sn"
   ]
  },
  {
   "cell_type": "code",
   "execution_count": 5,
   "metadata": {},
   "outputs": [],
   "source": [
    "def rhoI_plk(l):\n",
    "    if l<500:\n",
    "        return l*(.6-.4)/(500.) + .4\n",
    "    else:\n",
    "        return (l-500.)*(.4-.6)/(2050-500.) + .6"
   ]
  },
  {
   "cell_type": "code",
   "execution_count": 6,
   "metadata": {},
   "outputs": [],
   "source": [
    "Lmax  = 3000       # maximum multipole of output normalization\n",
    "rlmin, rlmax = 50, Lmax  # CMB multipole range for reconstruction\n",
    "L = np.linspace(0,Lmax,Lmax+1)\n",
    "Lfac = L*(L+1)/2/np.pi\n",
    "M = np.array([[1.,0],[1.,1.]])"
   ]
  },
  {
   "cell_type": "code",
   "execution_count": 7,
   "metadata": {},
   "outputs": [],
   "source": [
    "ucl = CMB.read_camb_cls('../data/local/cosmo2017_10K_acc3_scalCls.dat',output='array')[:,:Lmax+1]\n",
    "lcl = CMB.read_camb_cls('../data/local/cosmo2017_10K_acc3_lensedCls.dat',ftype='lens',output='array')[:,:Lmax+1]"
   ]
  },
  {
   "cell_type": "code",
   "execution_count": 8,
   "metadata": {},
   "outputs": [],
   "source": [
    "name = 'PlanckHFI'\n",
    "freqs, sigps, thetas = local.experiments(name)"
   ]
  },
  {
   "cell_type": "code",
   "execution_count": 9,
   "metadata": {},
   "outputs": [],
   "source": [
    "Lk, nkk, cnkk = np.loadtxt('/global/cscratch1/sd/toshiyan/PR3/lens/COM_Lensing_4096_R3.00/MV/nlkk.dat',unpack=True,usecols=(0,1,2))\n",
    "rhok = ((cnkk-nkk)/cnkk)[:Lmax+1]"
   ]
  },
  {
   "cell_type": "code",
   "execution_count": 10,
   "metadata": {},
   "outputs": [
    {
     "data": {
      "text/plain": [
       "[<matplotlib.lines.Line2D at 0x2aaae7d45d30>]"
      ]
     },
     "execution_count": 10,
     "metadata": {},
     "output_type": "execute_result"
    },
    {
     "data": {
      "image/png": "[encoded data removed]",
      "text/plain": [
       "<Figure size 432x288 with 1 Axes>"
      ]
     },
     "metadata": {
      "needs_background": "light"
     },
     "output_type": "display_data"
    }
   ],
   "source": [
    "xlim(10,2000)\n",
    "ylim(0,1.2)\n",
    "xscale('log')\n",
    "rhoI = (0.4-0.9)/(2000.)*L+0.9\n",
    "rhoc = (0.5-0.8)/(2000.)*L+0.8\n",
    "rhoP = np.array( [ rhoI_plk(l) for l in L ] )\n",
    "plot(L,rhoP)\n",
    "plot(L,rhoI)\n",
    "plot(L,rhoc)\n",
    "plot(Lk[:Lmax+1],rhok)"
   ]
  },
  {
   "cell_type": "code",
   "execution_count": 16,
   "metadata": {},
   "outputs": [
    {
     "name": "stdout",
     "output_type": "stream",
     "text": [
      "100.0 73.53910524340095 9.7\n",
      "TB\n",
      "cib: 1.36 k: 2.02 k+cib: 0.85\n",
      "EB\n",
      "cib: 1.79 k: 2.47 k+cib: 1.09\n",
      "BB\n",
      "cib: 2.20 k: 4.23 k+cib: 1.44\n",
      "noBB\n",
      "cib: 1.08 k: 1.56 k+cib: 0.67\n",
      "MV\n",
      "cib: 0.97 k: 1.46 k+cib: 0.61\n",
      "143.0 62.22539674441619 7.3\n",
      "TB\n",
      "cib: 0.95 k: 1.41 k+cib: 0.59\n",
      "EB\n",
      "cib: 1.19 k: 1.63 k+cib: 0.72\n",
      "BB\n",
      "cib: 1.45 k: 2.93 k+cib: 0.96\n",
      "noBB\n",
      "cib: 0.74 k: 1.07 k+cib: 0.46\n",
      "MV\n",
      "cib: 0.66 k: 1.00 k+cib: 0.41\n",
      "217.0 90.50966799187809 5.0\n",
      "TB\n",
      "cib: 1.29 k: 1.87 k+cib: 0.80\n",
      "EB\n",
      "cib: 2.25 k: 3.13 k+cib: 1.37\n",
      "BB\n",
      "cib: 3.30 k: 7.48 k+cib: 2.26\n",
      "noBB\n",
      "cib: 1.12 k: 1.61 k+cib: 0.69\n",
      "MV\n",
      "cib: 1.06 k: 1.57 k+cib: 0.66\n",
      "353.0 390.32294321497426 4.9\n",
      "TB\n",
      "cib: 7.96 k: 10.75 k+cib: 4.78\n",
      "EB\n",
      "cib: 38.98 k: 54.04 k+cib: 23.76\n",
      "BB\n",
      "cib: 62.15 k: 142.10 k+cib: 42.62\n",
      "noBB\n",
      "cib: 7.80 k: 10.55 k+cib: 4.69\n",
      "MV\n",
      "cib: 7.74 k: 10.52 k+cib: 4.66\n"
     ]
    }
   ],
   "source": [
    "sig = {}\n",
    "for nu, sigp, theta in zip(freqs,sigps,thetas):\n",
    "    print(nu,sigp,theta)\n",
    "    ocl = noise(lcl,sigp,theta,nu,name)\n",
    "    Ag  = rec(Lmax,rlmin,rlmax,lcl,ocl)\n",
    "    for q in ['TB','EB','BB','noBB','MV']:\n",
    "        print(q)\n",
    "        snrP = snr_ilens(Ag,ucl,L,q,corr=rhoP)\n",
    "        #snrI = snr_ilens(Ag,ucl,L,corr=rhoI)\n",
    "        snrc = snr_ilens(Ag,ucl,L,q,corr=rhoc)\n",
    "        snrk = snr_ilens(Ag,ucl,L,q,corr=rhok)\n",
    "        print('cib:',\"{:.2f}\".format(snrP),'k:',\"{:.2f}\".format(snrk),'k+cib:',\"{:.2f}\".format(snrc))"
   ]
  },
  {
   "cell_type": "code",
   "execution_count": 21,
   "metadata": {},
   "outputs": [
    {
     "name": "stdout",
     "output_type": "stream",
     "text": [
      "TB\n",
      "cib: 0.72 k: 1.12 k+cib: 0.46\n",
      "EB\n",
      "cib: 0.82 k: 1.16 k+cib: 0.50\n",
      "BB\n",
      "cib: 0.95 k: 1.98 k+cib: 0.63\n",
      "noBB\n",
      "cib: 0.54 k: 0.80 k+cib: 0.34\n",
      "MV\n",
      "cib: 0.47 k: 0.74 k+cib: 0.30\n"
     ]
    }
   ],
   "source": [
    "ocl = noise(lcl,40.*np.sqrt(2.),6.,0.,'')\n",
    "Ag  = rec(Lmax,rlmin,rlmax,lcl,ocl)\n",
    "for q in ['TB','EB','BB','noBB','MV']:\n",
    "    print(q)\n",
    "    snrP = snr_ilens(Ag,ucl,L,q,corr=rhoP)\n",
    "    snrc = snr_ilens(Ag,ucl,L,q,corr=rhoc)\n",
    "    snrk = snr_ilens(Ag,ucl,L,q,corr=rhok)\n",
    "    print('cib:',\"{:.2f}\".format(snrP),'k:',\"{:.2f}\".format(snrk),'k+cib:',\"{:.2f}\".format(snrc))"
   ]
  },
  {
   "cell_type": "code",
   "execution_count": null,
   "metadata": {},
   "outputs": [],
   "source": []
  }
 ],
 "metadata": {
  "kernelspec": {
   "display_name": "Python 3",
   "language": "python",
   "name": "python3"
  },
  "language_info": {
   "codemirror_mode": {
    "name": "ipython",
    "version": 3
   },
   "file_extension": ".py",
   "mimetype": "text/x-python",
   "name": "python",
   "nbconvert_exporter": "python",
   "pygments_lexer": "ipython3",
   "version": "3.7.2"
  }
 },
 "nbformat": 4,
 "nbformat_minor": 4
}

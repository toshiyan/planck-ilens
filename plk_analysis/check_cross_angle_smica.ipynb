{
 "cells": [
  {
   "cell_type": "code",
   "execution_count": 1,
   "metadata": {},
   "outputs": [],
   "source": [
    "import numpy as np, plottools as pl, healpy as hp, binning as bn, analysis as ana, tools_qrec, local, tools_cmb, tools_cib, warnings\n",
    "from matplotlib.pyplot import *\n",
    "warnings.filterwarnings(\"ignore\")"
   ]
  },
  {
   "cell_type": "code",
   "execution_count": 2,
   "metadata": {},
   "outputs": [],
   "source": [
    "def angle(wind,cn,tcb=None):\n",
    "    aobj = local.init_analysis(freq='smica',dtype='full',wind='L'+wind,fltr='cinv')\n",
    "    qobj = tools_qrec.init_quad(aobj.snmax,ids=local.ids,rlz=aobj.rlz,stag=aobj.stag,qtypes=['ilens'],rlmin=100,rlmax=2048)\n",
    "    iobj = tools_cib.init_cib(wind=wind)\n",
    "    xobj = tools_qrec.cross(qobj['ilens'],iobj)\n",
    "    mb = bn.multipole_binning(10,lmin=8,lmax=400)\n",
    "    if cn==3: tcb = tools_qrec.n0_template(aobj,iobj,mb)\n",
    "    mcb, vcb, scb, ocb = tools_qrec.binned_spec(mb,aobj,qobj,xobj,cn,tcb=tcb)\n",
    "    if cn==3: fcb = bn.binning(aobj.ckk*np.pi/180,mb)\n",
    "    if cn==5: fcb = bn.binned_spec(mb,xobj.fcli['TB'],cn=7)[3]*np.pi/180\n",
    "    st = {q: ana.amplitude(ocb[q]-mcb[q],scb[q],fcb=fcb,diag=True,disp=True) for q in ['TB','EB','BB','MV']}\n",
    "    st = {q: ana.amplitude(ocb[q]-mcb[q],scb[q],fcb=fcb,diag=False,disp=True) for q in ['TB','EB','BB','MV']}\n",
    "    return st"
   ]
  },
  {
   "cell_type": "code",
   "execution_count": 3,
   "metadata": {},
   "outputs": [
    {
     "name": "stdout",
     "output_type": "stream",
     "text": [
      "G40 3\n",
      "obs A -0.816 mean(A) 0.101 sigma(A) 0.83 S/N 1.205 A>oA 0.28\n",
      "obs A -0.064 mean(A) 0.016 sigma(A) 0.833 S/N 1.2 A>oA 0.96\n",
      "obs A 1.275 mean(A) 0.0 sigma(A) 1.305 S/N 0.766 A>oA 0.28\n",
      "obs A -0.239 mean(A) 0.047 sigma(A) 0.559 S/N 1.789 A>oA 0.6399999999999999\n",
      "obs A -0.846 mean(A) 0.096 sigma(A) 0.875 S/N 1.142 A>oA 0.3400000000000001\n",
      "obs A -0.046 mean(A) 0.016 sigma(A) 0.878 S/N 1.139 A>oA 0.94\n",
      "obs A 1.237 mean(A) 0.035 sigma(A) 1.339 S/N 0.747 A>oA 0.4\n",
      "obs A -0.39 mean(A) 0.041 sigma(A) 0.564 S/N 1.772 A>oA 0.52\n",
      "G40 5\n",
      "obs A -1.24 mean(A) 0.091 sigma(A) 0.663 S/N 1.508 A>oA 0.040000000000000036\n",
      "obs A -0.404 mean(A) 0.132 sigma(A) 0.761 S/N 1.314 A>oA 0.43999999999999995\n",
      "obs A 0.359 mean(A) -0.059 sigma(A) 0.882 S/N 1.134 A>oA 0.64\n",
      "obs A -0.539 mean(A) 0.062 sigma(A) 0.437 S/N 2.287 A>oA 0.1399999999999999\n",
      "obs A -1.699 mean(A) 0.111 sigma(A) 0.671 S/N 1.489 A>oA 0.0\n",
      "obs A -0.072 mean(A) 0.124 sigma(A) 0.809 S/N 1.237 A>oA 0.78\n",
      "obs A 0.755 mean(A) -0.042 sigma(A) 0.935 S/N 1.07 A>oA 0.43999999999999995\n",
      "obs A -0.444 mean(A) 0.059 sigma(A) 0.462 S/N 2.162 A>oA 0.3400000000000001\n",
      "-1.383068899024259 0.5327166216818017\n",
      "-0.060448790756859695 0.5948408277907968\n",
      "0.9134212517268634 0.7665097457551626\n",
      "-0.42236016553648137 0.3577210532967353\n",
      "G60 3\n",
      "obs A -0.221 mean(A) 0.093 sigma(A) 0.82 S/N 1.22 A>oA 0.74\n",
      "obs A 0.178 mean(A) 0.05 sigma(A) 0.711 S/N 1.406 A>oA 0.82\n",
      "obs A -0.168 mean(A) 0.021 sigma(A) 1.144 S/N 0.874 A>oA 0.8600000000000001\n",
      "obs A -0.069 mean(A) 0.055 sigma(A) 0.523 S/N 1.911 A>oA 0.8600000000000001\n",
      "obs A 0.221 mean(A) 0.06 sigma(A) 0.85 S/N 1.177 A>oA 0.78\n",
      "obs A -0.064 mean(A) 0.069 sigma(A) 0.75 S/N 1.333 A>oA 0.78\n",
      "obs A -0.375 mean(A) 0.024 sigma(A) 1.214 S/N 0.823 A>oA 0.6799999999999999\n",
      "obs A 0.092 mean(A) 0.071 sigma(A) 0.534 S/N 1.874 A>oA 0.98\n",
      "G60 5\n",
      "obs A -0.784 mean(A) -0.057 sigma(A) 0.714 S/N 1.401 A>oA 0.26\n",
      "obs A -0.473 mean(A) 0.053 sigma(A) 0.688 S/N 1.454 A>oA 0.48\n",
      "obs A 0.43 mean(A) 0.075 sigma(A) 0.861 S/N 1.161 A>oA 0.78\n",
      "obs A -0.395 mean(A) 0.013 sigma(A) 0.476 S/N 2.099 A>oA 0.41999999999999993\n",
      "obs A -1.416 mean(A) -0.072 sigma(A) 0.717 S/N 1.395 A>oA 0.040000000000000036\n",
      "obs A -0.061 mean(A) 0.06 sigma(A) 0.701 S/N 1.427 A>oA 0.78\n",
      "obs A 0.564 mean(A) 0.054 sigma(A) 0.891 S/N 1.122 A>oA 0.64\n",
      "obs A -0.621 mean(A) 0.015 sigma(A) 0.493 S/N 2.027 A>oA 0.28\n",
      "-0.7354740778163698 0.5479478242780014\n",
      "-0.06212890500884462 0.5121669510150819\n",
      "0.2353396576469514 0.7185985448912532\n",
      "-0.2922596780809014 0.3623065992174691\n"
     ]
    }
   ],
   "source": [
    "st = {}\n",
    "for wind in ['G40','G60']:\n",
    "    for cn in [3,5]:\n",
    "        print(wind,cn)\n",
    "        st[wind,cn] = angle(wind,cn)\n",
    "    for q in ['TB','EB','BB','MV']:\n",
    "        sigma = np.sqrt(1./(1./st[wind,3][q].sA**2+1./st[wind,5][q].sA**2))\n",
    "        mean = (st[wind,3][q].oA/st[wind,3][q].sA**2+st[wind,5][q].oA/st[wind,5][q].sA**2)*sigma**2\n",
    "        print(mean,sigma)"
   ]
  },
  {
   "cell_type": "code",
   "execution_count": 4,
   "metadata": {},
   "outputs": [
    {
     "data": {
      "text/plain": [
       "(array([ 2.,  1.,  6.,  6., 12., 15.,  8.,  8., 17., 10.,  7.,  6.,  0.,\n",
       "         1.,  1.]),\n",
       " array([-1.77846423, -1.53350843, -1.28855263, -1.04359683, -0.79864103,\n",
       "        -0.55368523, -0.30872942, -0.06377362,  0.18118218,  0.42613798,\n",
       "         0.67109378,  0.91604958,  1.16100538,  1.40596118,  1.65091698,\n",
       "         1.89587278]),\n",
       " <BarContainer object of 15 artists>)"
      ]
     },
     "execution_count": 4,
     "metadata": {},
     "output_type": "execute_result"
    },
    {
     "data": {
      "image/png": "[encoded data removed]",
      "text/plain": [
       "<Figure size 432x288 with 1 Axes>"
      ]
     },
     "metadata": {
      "needs_background": "light"
     },
     "output_type": "display_data"
    }
   ],
   "source": [
    "hist(st['G40',5]['TB'].A,bins=15,alpha=.5)\n",
    "hist(st['G60',5]['TB'].A,bins=15,alpha=.5)\n",
    "#hist(st[5]['EB'].A,bins=20)"
   ]
  }
 ],
 "metadata": {
  "kernelspec": {
   "display_name": "Python 3",
   "language": "python",
   "name": "python3"
  },
  "language_info": {
   "codemirror_mode": {
    "name": "ipython",
    "version": 3
   },
   "file_extension": ".py",
   "mimetype": "text/x-python",
   "name": "python",
   "nbconvert_exporter": "python",
   "pygments_lexer": "ipython3",
   "version": "3.7.2"
  }
 },
 "nbformat": 4,
 "nbformat_minor": 4
}

{
 "cells": [
  {
   "cell_type": "code",
   "execution_count": 1,
   "metadata": {},
   "outputs": [
    {
     "name": "stderr",
     "output_type": "stream",
     "text": [
      "WARNING: leap-second auto-update failed due to the following exception: RuntimeError('Cache is locked after 5.00 s. This may indicate an astropy bug or that kill -9 was used. If you want to unlock the cache remove the directory /global/homes/t/toshiyan/.astropy/cache/download/py3/lock.') [astropy.time.core]\n"
     ]
    }
   ],
   "source": [
    "import numpy as np, plottools as pl, constant as c, camb\n",
    "from camb import model, initialpower\n",
    "from matplotlib.pyplot import *"
   ]
  },
  {
   "cell_type": "code",
   "execution_count": 7,
   "metadata": {},
   "outputs": [],
   "source": [
    "def prepare_cls(lmax=4000):\n",
    "    #Set up a new set of parameters for CAMB\n",
    "    pars = camb.CAMBparams()\n",
    "    #This function sets up CosmoMC-like settings, with one massive neutrino and helium set using BBN consistency\n",
    "    pars.set_cosmology(H0=67.5, ombh2=0.022, omch2=0.122, mnu=0.06, omk=0, tau=0.06)\n",
    "    pars.InitPower.set_params(As=2e-9, ns=0.965, r=1)\n",
    "    pars.set_for_lmax(lmax, lens_potential_accuracy=0)\n",
    "    pars.WantTensors = True\n",
    "    results = camb.get_transfer_functions(pars)\n",
    "    powers =results.get_cmb_power_spectra(pars, CMB_unit='muK')\n",
    "    # lensed Cls\n",
    "    ls = np.arange(powers['lensed_scalar'].shape[0])\n",
    "    fac = ls*(ls+1)/(2*np.pi)*c.Tcmb**2\n",
    "    lcl = np.zeros((4,lmax+1))\n",
    "    lcl[0,2:] = powers['lensed_scalar'][2:lmax+1,0]/fac[2:lmax+1]\n",
    "    lcl[1,2:] = powers['lensed_scalar'][2:lmax+1,1]/fac[2:lmax+1]\n",
    "    lcl[2,2:] = powers['lensed_scalar'][2:lmax+1,2]/fac[2:lmax+1]\n",
    "    lcl[3,2:] = powers['lensed_scalar'][2:lmax+1,3]/fac[2:lmax+1]\n",
    "    return lcl    "
   ]
  },
  {
   "cell_type": "code",
   "execution_count": 3,
   "metadata": {},
   "outputs": [],
   "source": [
    "def noise(lcl,sig,theta,alpha):\n",
    "    nl = lcl*0.\n",
    "    nl[0,:] = .5*(sig*c.ac2rad/c.Tcmb)**2*np.exp(L*(L+1)*(theta*c.ac2rad)**2/8./np.log(2.))\n",
    "    nl[1,:] = 2*nl[0,:]\n",
    "    nl[2,:] = 2*nl[0,:]\n",
    "    Lcl = lcl.copy()\n",
    "    Lcl[2,:] *= alpha\n",
    "    return Lcl + nl"
   ]
  },
  {
   "cell_type": "code",
   "execution_count": 4,
   "metadata": {},
   "outputs": [],
   "source": [
    "def snr_eb(lcl,ocl,L,Lmin):\n",
    "    SN = (2*L+1.)*(lcl[1,:]-lcl[2,:])**2/( ocl[1,:]*ocl[2,:] )\n",
    "    sn = np.pi/180. * 2. * np.sqrt( np.sum(SN[Lmin+1:]) )\n",
    "    return sn"
   ]
  },
  {
   "cell_type": "code",
   "execution_count": 28,
   "metadata": {},
   "outputs": [
    {
     "name": "stdout",
     "output_type": "stream",
     "text": [
      "0.00024390243902439024\n"
     ]
    }
   ],
   "source": [
    "Lmin, Lmax  = 500, 3000       # maximum multipole of output normalization\n",
    "L = np.linspace(0,Lmax,Lmax+1)\n",
    "theta  = 4.\n",
    "fsky   = 10./41000.\n",
    "sigs   = np.array([6.,5.,4.,3.,2.,1.])\n",
    "alphas = np.array([1.,.5,.3])\n",
    "print(fsky)"
   ]
  },
  {
   "cell_type": "code",
   "execution_count": 12,
   "metadata": {},
   "outputs": [],
   "source": [
    "lcl = prepare_cls(lmax=Lmax)"
   ]
  },
  {
   "cell_type": "code",
   "execution_count": 29,
   "metadata": {},
   "outputs": [],
   "source": [
    "snr = np.zeros((len(alphas),len(sigs)))\n",
    "for j, alpha in enumerate(alphas):\n",
    "    for i, sig in enumerate(sigs):\n",
    "        ocl = noise(lcl,sig,theta,alpha)\n",
    "        snr[j,i] = snr_eb(lcl,ocl,L,Lmin)"
   ]
  },
  {
   "cell_type": "code",
   "execution_count": 31,
   "metadata": {},
   "outputs": [
    {
     "data": {
      "text/plain": [
       "<matplotlib.legend.Legend at 0x155503043dd8>"
      ]
     },
     "execution_count": 31,
     "metadata": {},
     "output_type": "execute_result"
    },
    {
     "data": {
      "image/png": "[encoded data removed]",
      "text/plain": [
       "<Figure size 432x288 with 1 Axes>"
      ]
     },
     "metadata": {
      "needs_background": "light"
     },
     "output_type": "display_data"
    }
   ],
   "source": [
    "pl.plot_1dstyle(usetex=True,xmin=sigs[0],xmax=sigs[-1],xlog=True,ylog=True,xlab='$\\sigma_P$ [$\\mu$K-arcmin]',ylab=r'$\\sigma(\\beta)$ [deg]')\n",
    "for j, alpha in enumerate(alphas):\n",
    "    plot(sigs,1./snr[j,:]/np.sqrt(fsky),ls='-',label=r'$A_{\\rm lens}='+str(alpha)+'$')\n",
    "legend()\n",
    "#savefig('fig_const_comp.pdf')"
   ]
  },
  {
   "cell_type": "code",
   "execution_count": null,
   "metadata": {},
   "outputs": [],
   "source": []
  }
 ],
 "metadata": {
  "kernelspec": {
   "display_name": "py4so",
   "language": "python",
   "name": "py4so"
  },
  "language_info": {
   "codemirror_mode": {
    "name": "ipython",
    "version": 3
   },
   "file_extension": ".py",
   "mimetype": "text/x-python",
   "name": "python",
   "nbconvert_exporter": "python",
   "pygments_lexer": "ipython3",
   "version": "3.7.2"
  }
 },
 "nbformat": 4,
 "nbformat_minor": 4
}

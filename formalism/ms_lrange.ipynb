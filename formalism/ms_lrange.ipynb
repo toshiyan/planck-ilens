{
 "cells": [
  {
   "cell_type": "code",
   "execution_count": 1,
   "metadata": {},
   "outputs": [],
   "source": [
    "import numpy as np, curvedsky as cs, plottools as pl, cmb as CMB, local, tqdm\n",
    "from matplotlib.pyplot import *"
   ]
  },
  {
   "cell_type": "code",
   "execution_count": 2,
   "metadata": {},
   "outputs": [],
   "source": [
    "def snr_ilens(Ag,ucl,L,corr=1.):\n",
    "    #Nl = 1./(1./Ag['EB']+1./Ag['TB']+1./Ag['BB'])\n",
    "    SN = (2*L+1.)*ucl[3]/Ag['BB'] * corr**2\n",
    "    sn = np.pi/180. * np.sqrt( np.sum(SN[2:]) )\n",
    "    return sn"
   ]
  },
  {
   "cell_type": "code",
   "execution_count": 19,
   "metadata": {},
   "outputs": [],
   "source": [
    "def snr_eb_l(lcl,ocl,L):\n",
    "    SN = (2*L+1.)*(lcl[1,:]-lcl[2,:])**2/( ocl[1,:]*ocl[2,:] )\n",
    "    sn = np.pi/180. * 2. * np.sqrt( np.cumsum(SN) ) \n",
    "    return sn"
   ]
  },
  {
   "cell_type": "code",
   "execution_count": 59,
   "metadata": {},
   "outputs": [],
   "source": [
    "Lmax  = 3000       # maximum multipole of output normalization\n",
    "L = np.linspace(0,Lmax,Lmax+1)\n",
    "sig = 1.\n",
    "theta = 1."
   ]
  },
  {
   "cell_type": "code",
   "execution_count": 55,
   "metadata": {},
   "outputs": [],
   "source": [
    "ucl = CMB.read_camb_cls('../data_local/cosmo2017_10K_acc3_scalCls.dat',output='array')[:,:Lmax+1]\n",
    "lcl = CMB.read_camb_cls('../data_local/cosmo2017_10K_acc3_lensedCls.dat',ftype='lens',output='array')[:,:Lmax+1]"
   ]
  },
  {
   "cell_type": "code",
   "execution_count": 60,
   "metadata": {},
   "outputs": [],
   "source": [
    "ocl = local.noise(lcl,sig,theta,lBmin=2)\n",
    "snrl_eb = snr_eb_l(lcl,ocl,L)"
   ]
  },
  {
   "cell_type": "code",
   "execution_count": 82,
   "metadata": {},
   "outputs": [
    {
     "name": "stdout",
     "output_type": "stream",
     "text": [
      "29\n",
      "[ 200  300  400  500  600  700  800  900 1000 1100 1200 1300 1400 1500\n",
      " 1600 1700 1800 1900 2000 2100 2200 2300 2400 2500 2600 2700 2800 2900\n",
      " 3000]\n"
     ]
    },
    {
     "name": "stderr",
     "output_type": "stream",
     "text": [
      "/tmp/ipykernel_8222/2265527241.py:4: DeprecationWarning: `np.int` is a deprecated alias for the builtin `int`. To silence this warning, use `int` by itself. Doing this will not modify any behavior and is safe. When replacing `np.int`, you may wish to use e.g. `np.int64` or `np.int32` to specify the precision. If you wish to review your current use, check the release note link for additional information.\n",
      "Deprecated in NumPy 1.20; for more details and guidance: https://numpy.org/devdocs/release/1.20.0-notes.html#deprecations\n",
      "  rlmins = np.linspace(200,200+dell*(bn-1),bn,dtype=np.int)\n"
     ]
    }
   ],
   "source": [
    "dell = 100\n",
    "bn   = int((Lmax-dell)/dell)\n",
    "print(bn)\n",
    "rlmins = np.linspace(200,200+dell*(bn-1),bn,dtype=np.int)\n",
    "rlmaxs = rlmins + dell\n",
    "print(rlmins)"
   ]
  },
  {
   "cell_type": "code",
   "execution_count": 83,
   "metadata": {},
   "outputs": [
    {
     "name": "stdout",
     "output_type": "stream",
     "text": [
      " norm qBB\n",
      "200 300 56.6904884575108 88.24173166407289\n",
      " norm qBB\n"
     ]
    },
    {
     "name": "stderr",
     "output_type": "stream",
     "text": [
      "/tmp/ipykernel_8222/2489700825.py:3: RuntimeWarning: invalid value encountered in true_divide\n",
      "  SN = (2*L+1.)*ucl[3]/Ag['BB'] * corr**2\n"
     ]
    },
    {
     "name": "stdout",
     "output_type": "stream",
     "text": [
      "300 400 215.8124793862463 189.63817708201333\n",
      " norm qBB\n",
      "400 500 186.91502809857667 175.8464301114573\n",
      " norm qBB\n",
      "500 600 111.91044594608873 133.6702255689064\n",
      " norm qBB\n",
      "600 700 322.9217695359153 238.31587656377704\n",
      " norm qBB\n",
      "700 800 282.0423339899412 224.57215855994338\n",
      " norm qBB\n",
      "800 900 156.06545392142476 168.72386473827657\n",
      " norm qBB\n",
      "900 1000 372.6476325794586 270.42722786707304\n",
      " norm qBB\n",
      "1000 1100 350.2811881774813 267.23988070450457\n",
      " norm qBB\n",
      "1100 1200 165.22234331765335 186.60917592731397\n",
      " norm qBB\n",
      "1200 1300 293.3750985382427 255.18692998346515\n",
      " norm qBB\n",
      "1300 1400 303.86331923737885 265.92195140263544\n",
      " norm qBB\n",
      "1400 1500 159.55898536192316 195.25645759350658\n",
      " norm qBB\n",
      "1500 1600 223.11456327522868 236.33225363118697\n",
      " norm qBB\n",
      "1600 1700 245.5916902813787 253.8141009390546\n",
      " norm qBB\n",
      "1700 1800 136.1324105820554 189.98268033926823\n",
      " norm qBB\n",
      "1800 1900 133.64963553422774 192.4842114374904\n",
      " norm qBB\n",
      "1900 2000 151.50246105192005 208.9410315411349\n",
      " norm qBB\n",
      "2000 2100 95.7189962713406 166.4589637116619\n",
      " norm qBB\n",
      "2100 2200 78.80005772870861 153.66262135616748\n",
      " norm qBB\n",
      "2200 2300 86.58231359348326 163.51240258563723\n",
      " norm qBB\n",
      "2300 2400 59.58705331252626 135.5461994098427\n",
      " norm qBB\n",
      "2400 2500 41.029033263396244 113.60794015449616\n",
      " norm qBB\n",
      "2500 2600 40.71733822173855 114.6567396175112\n",
      " norm qBB\n",
      "2600 2700 30.525172744325157 99.28099720865427\n",
      " norm qBB\n",
      "2700 2800 20.572856033350597 81.74822607514544\n",
      " norm qBB\n",
      "2800 2900 18.348587496671165 78.35685492454392\n",
      " norm qBB\n",
      "2900 3000 14.191542632870494 69.06850904790582\n",
      " norm qBB\n",
      "3000 3100 1.0955250872948354 6.097888945666792\n"
     ]
    }
   ],
   "source": [
    "snrl_rec = np.zeros(len(rlmins))\n",
    "snrl_eb  = np.zeros(len(rlmins))\n",
    "for l, (rlmin, rlmax) in enumerate(zip(rlmins,rlmaxs)):\n",
    "    rcl = lcl.copy()\n",
    "    rcl[:,:rlmin] = 0.\n",
    "    rcl[:,rlmax+1:] = 0.\n",
    "    Ag = local.rec(Lmax,100,Lmax,rcl[:,:Lmax+1],ocl[:,:Lmax+1],qdo=['BB'])\n",
    "    snrl_rec[l] = snr_ilens(Ag,ucl,L,corr=1.)\n",
    "    snrl_eb[l] = snr_eb_l(lcl[:,rlmin:rlmax+1],ocl[:,rlmin:rlmax+1],L[rlmin:rlmax+1])[-1]\n",
    "    print(rlmin,rlmax,snrl_rec[l],snrl_eb[l])"
   ]
  },
  {
   "cell_type": "code",
   "execution_count": 84,
   "metadata": {},
   "outputs": [
    {
     "data": {
      "text/plain": [
       "[<matplotlib.lines.Line2D at 0x155510fa3400>]"
      ]
     },
     "execution_count": 84,
     "metadata": {},
     "output_type": "execute_result"
    },
    {
     "data": {
      "image/png": "[encoded data removed]",
      "text/plain": [
       "<Figure size 432x288 with 1 Axes>"
      ]
     },
     "metadata": {
      "needs_background": "light"
     },
     "output_type": "display_data"
    }
   ],
   "source": [
    "lc = (rlmins+rlmaxs)*.5\n",
    "plot(lc,snrl_rec)\n",
    "plot(lc,snrl_eb)"
   ]
  },
  {
   "cell_type": "code",
   "execution_count": null,
   "metadata": {},
   "outputs": [],
   "source": []
  }
 ],
 "metadata": {
  "kernelspec": {
   "display_name": "Python 3 (ipykernel)",
   "language": "python",
   "name": "python3"
  },
  "language_info": {
   "codemirror_mode": {
    "name": "ipython",
    "version": 3
   },
   "file_extension": ".py",
   "mimetype": "text/x-python",
   "name": "python",
   "nbconvert_exporter": "python",
   "pygments_lexer": "ipython3",
   "version": "3.9.7"
  }
 },
 "nbformat": 4,
 "nbformat_minor": 4
}

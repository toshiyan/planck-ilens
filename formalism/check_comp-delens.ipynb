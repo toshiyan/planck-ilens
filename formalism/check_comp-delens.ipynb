{
 "cells": [
  {
   "cell_type": "code",
   "execution_count": 1,
   "metadata": {},
   "outputs": [],
   "source": [
    "import numpy as np, curvedsky as cs, plottools as pl, cmb as CMB\n",
    "from matplotlib.pyplot import *"
   ]
  },
  {
   "cell_type": "code",
   "execution_count": 2,
   "metadata": {},
   "outputs": [],
   "source": [
    "def noise(lcl,sig,theta,alpha,split=False):\n",
    "    nl = np.zeros((4,rlmax+1))\n",
    "    nl[0,:] = .5*(sig*ac2rad/Tcmb)**2*np.exp(L*(L+1)*(theta*ac2rad)**2/8./np.log(2.))\n",
    "    nl[1,:] = 2*nl[0,:]\n",
    "    nl[2,:] = 2*nl[0,:]\n",
    "    if split: nl *= 2.\n",
    "    Lcl = lcl.copy()\n",
    "    Lcl[2,:] *= alpha\n",
    "    return Lcl + nl"
   ]
  },
  {
   "cell_type": "code",
   "execution_count": 3,
   "metadata": {},
   "outputs": [],
   "source": [
    "def rec(Lmax,rlmin,rlmax,lcl,ocl):\n",
    "    Ag = {}\n",
    "    #Ag['TE'] = cs.norm_imag.qte('lens',Lmax,rlmin,rlmax,lcl[3,:],ocl[0,:],ocl[1,:])[0]\n",
    "    #Ag['TB'] = cs.norm_imag.qtb('lens',Lmax,rlmin,rlmax,lcl[3,:],ocl[0,:],ocl[2,:])[0]\n",
    "    #Ag['EE'] = cs.norm_imag.qee('lens',Lmax,rlmin,rlmax,lcl[1,:],ocl[1,:])[0]\n",
    "    Ag['EB'] = cs.norm_imag.qeb('lens',Lmax,rlmin,rlmax,lcl[1,:],ocl[1,:],ocl[2,:])[0]\n",
    "    Ag['BB'] = cs.norm_imag.qbb('lens',Lmax,rlmin,rlmax,lcl[1,:],ocl[2,:])[0]\n",
    "    return Ag"
   ]
  },
  {
   "cell_type": "code",
   "execution_count": 4,
   "metadata": {},
   "outputs": [],
   "source": [
    "def snr_ilens(Ag,ucl,L,corr=1.):\n",
    "    Nl = 1./(1./Ag['EB']+1./Ag['BB'])\n",
    "    #Nl = 1./(1./Ag['EB']+1./Ag['TB']+1./Ag['BB'])\n",
    "    #Nl = 1./(1./Ag['EB']+1./Ag['TB']+1./Ag['BB']+1./Ag['EE']+1./Ag['TE'])\n",
    "    SN = (2*L+1.)*ucl[3]/Nl * corr**2\n",
    "    sn = np.pi/180. * np.sqrt( np.sum(SN[2:]) )\n",
    "    return sn"
   ]
  },
  {
   "cell_type": "code",
   "execution_count": 5,
   "metadata": {},
   "outputs": [],
   "source": [
    "def snr_eb(lcl,ocl,L,rlmin):\n",
    "    SN = (2*L+1.)*(lcl[1,:]-lcl[2,:])**2/( ocl[1,:]*ocl[2,:] )\n",
    "    sn = np.pi/180. * 2. * np.sqrt( np.sum(SN[rlmin+1:]) )\n",
    "    return sn"
   ]
  },
  {
   "cell_type": "code",
   "execution_count": 6,
   "metadata": {},
   "outputs": [],
   "source": [
    "Tcmb  = 2.726e6    # CMB temperature\n",
    "Lmax  = 4000       # maximum multipole of output normalization\n",
    "rlmin, rlmax = 100, Lmax  # CMB multipole range for reconstruction\n",
    "L = np.linspace(0,Lmax,Lmax+1)\n",
    "ac2rad = np.pi/10800.\n",
    "sigs  = np.array([70.,15.,5.,3.,2.,1.,.5])\n",
    "alpha = np.array([1.,1.,1.,.5,.3,.2,.1])\n",
    "thetas = np.array([30.,7.,3.,.5])"
   ]
  },
  {
   "cell_type": "code",
   "execution_count": 7,
   "metadata": {},
   "outputs": [],
   "source": [
    "ucl = CMB.read_camb_cls('data_local/cosmo2017_10K_acc3_scalCls.dat',output='array')[:,:Lmax+1]\n",
    "lcl = CMB.read_camb_cls('data_local/cosmo2017_10K_acc3_lensedCls.dat',ftype='lens',output='array')[:,:Lmax+1]"
   ]
  },
  {
   "cell_type": "code",
   "execution_count": 8,
   "metadata": {},
   "outputs": [
    {
     "name": "stdout",
     "output_type": "stream",
     "text": [
      "0 0\n"
     ]
    },
    {
     "name": "stderr",
     "output_type": "stream",
     "text": [
      "/global/homes/t/toshiyan/.conda/envs/loc/lib/python3.7/site-packages/ipykernel_launcher.py:2: RuntimeWarning: divide by zero encountered in true_divide\n",
      "  \n",
      "/global/homes/t/toshiyan/.conda/envs/loc/lib/python3.7/site-packages/ipykernel_launcher.py:5: RuntimeWarning: invalid value encountered in true_divide\n",
      "  \"\"\"\n"
     ]
    },
    {
     "name": "stdout",
     "output_type": "stream",
     "text": [
      "1 0\n",
      "2 0\n",
      "3 0\n",
      "4 0\n",
      "5 0\n",
      "6 0\n",
      "0 1\n",
      "1 1\n",
      "2 1\n",
      "3 1\n",
      "4 1\n",
      "5 1\n",
      "6 1\n",
      "0 2\n",
      "1 2\n",
      "2 2\n",
      "3 2\n",
      "4 2\n",
      "5 2\n",
      "6 2\n",
      "0 3\n",
      "1 3\n",
      "2 3\n",
      "3 3\n",
      "4 3\n",
      "5 3\n",
      "6 3\n"
     ]
    }
   ],
   "source": [
    "snr_cib = np.zeros((2,len(thetas),len(sigs)))\n",
    "snr_inp = np.zeros((2,len(thetas),len(sigs)))\n",
    "snr_cEB = np.zeros((2,len(thetas),len(sigs)))\n",
    "for j, theta in enumerate(thetas):\n",
    "    for i, sig in enumerate(sigs):\n",
    "        print(i,j)\n",
    "        ocl0 = noise(lcl,sig,theta,alpha[i])\n",
    "        ocl1 = noise(lcl,sig,theta,alpha[i],split=False)\n",
    "        Ag  = rec(Lmax,rlmin,rlmax,lcl,ocl0)\n",
    "        snr_cib[0,j,i] = alpha[i]**.5*snr_ilens(Ag,ucl,L,corr=(0.4-0.9)/(2000.)*L+0.9)\n",
    "        snr_inp[0,j,i] = alpha[i]**.5*snr_ilens(Ag,ucl,L)\n",
    "        snr_cEB[0,j,i] = snr_eb(lcl,ocl1,L,rlmin)"
   ]
  },
  {
   "cell_type": "code",
   "execution_count": 9,
   "metadata": {},
   "outputs": [
    {
     "data": {
      "text/plain": [
       "<matplotlib.legend.Legend at 0x2aaae707ffd0>"
      ]
     },
     "execution_count": 9,
     "metadata": {},
     "output_type": "execute_result"
    },
    {
     "data": {
      "image/png": "[encoded data removed]",
      "text/plain": [
       "<Figure size 432x288 with 1 Axes>"
      ]
     },
     "metadata": {
      "needs_background": "light"
     },
     "output_type": "display_data"
    }
   ],
   "source": [
    "pl.plot_1dstyle(usetex=True,xmin=.5,xmax=70,xlog=True,ylog=True,xlab='$\\sigma_P$ [$\\mu$K-arcmin]',ylab=r'$(S/N)/\\sqrt{f_{\\rm sky}}$')\n",
    "for j, theta in enumerate(thetas):\n",
    "    p0, = plot(sigs,1./snr_inp[0,j,:],ls='-',label=r'$\\theta='+str(theta)+'$')\n",
    "    plot(sigs,1./snr_cEB[0,j,:],color=p0.get_color(),ls='--')\n",
    "legend()\n",
    "savefig('fig_const_delens.pdf')"
   ]
  },
  {
   "cell_type": "code",
   "execution_count": null,
   "metadata": {},
   "outputs": [],
   "source": []
  }
 ],
 "metadata": {
  "kernelspec": {
   "display_name": "Python 3",
   "language": "python",
   "name": "python3"
  },
  "language_info": {
   "codemirror_mode": {
    "name": "ipython",
    "version": 3
   },
   "file_extension": ".py",
   "mimetype": "text/x-python",
   "name": "python",
   "nbconvert_exporter": "python",
   "pygments_lexer": "ipython3",
   "version": "3.7.2"
  }
 },
 "nbformat": 4,
 "nbformat_minor": 4
}

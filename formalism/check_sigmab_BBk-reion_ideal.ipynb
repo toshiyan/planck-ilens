{
 "cells": [
  {
   "cell_type": "code",
   "execution_count": 2,
   "metadata": {},
   "outputs": [],
   "source": [
    "import numpy as np, curvedsky as cs, plottools as pl, cmb as CMB, local, basic, tqdm\n",
    "from matplotlib.pyplot import *\n",
    "cr = rcParams['axes.prop_cycle'].by_key()['color']"
   ]
  },
  {
   "cell_type": "code",
   "execution_count": 3,
   "metadata": {},
   "outputs": [],
   "source": [
    "def snr_ilens(Ag,ucl,L,corr=1.):\n",
    "    #Nl = 1./(1./Ag['EB']+1./Ag['TB']+1./Ag['BB'])\n",
    "    SN = (2*L+1.)*ucl[3]/Ag['BB'] * corr**2\n",
    "    sn = np.pi/180. * np.sqrt( np.sum(SN[2:]) )\n",
    "    return sn"
   ]
  },
  {
   "cell_type": "code",
   "execution_count": 4,
   "metadata": {},
   "outputs": [],
   "source": [
    "def snr_eb(lcl,ocl,L,Lmin,Lmax):\n",
    "    SN = (2*L[Lmin:Lmax+1]+1.)*(lcl[1,Lmin:Lmax+1]-lcl[2,Lmin:Lmax+1])**2/( ocl[1,Lmin:Lmax+1]*ocl[2,Lmin:Lmax+1] )\n",
    "    sn = np.pi/180. * 2. * np.sqrt( np.sum(SN) ) \n",
    "    return sn"
   ]
  },
  {
   "cell_type": "code",
   "execution_count": 5,
   "metadata": {},
   "outputs": [],
   "source": [
    "Lmax  = 4000       # maximum multipole of output normalization\n",
    "L = np.linspace(0,Lmax,Lmax+1)\n",
    "lmin, lmax = 2, 10\n",
    "rlmin, rlmax = 2, 4000"
   ]
  },
  {
   "cell_type": "code",
   "execution_count": 6,
   "metadata": {},
   "outputs": [],
   "source": [
    "ucl = CMB.read_camb_cls('../data_local/cosmo2017_10K_acc3_scalCls.dat',output='array')[:,:Lmax+1]\n",
    "lcl = CMB.read_camb_cls('../data_local/cosmo2017_10K_acc3_lensedCls.dat',ftype='lens',output='array')[:,:Lmax+1]"
   ]
  },
  {
   "cell_type": "code",
   "execution_count": 7,
   "metadata": {},
   "outputs": [],
   "source": [
    "sigmas = np.logspace(-1,1,10)"
   ]
  },
  {
   "cell_type": "code",
   "execution_count": 8,
   "metadata": {},
   "outputs": [],
   "source": [
    "ClS = local.add_noise(lcl,2.,30.,lBmin=2)"
   ]
  },
  {
   "cell_type": "code",
   "execution_count": 9,
   "metadata": {},
   "outputs": [],
   "source": [
    "rcl = lcl.copy()\n",
    "rcl[:,lmax+1:] = 0."
   ]
  },
  {
   "cell_type": "code",
   "execution_count": 10,
   "metadata": {},
   "outputs": [],
   "source": [
    "sigma_eb = 1./snr_eb(rcl,ClS,L,lmin,lmax)"
   ]
  },
  {
   "cell_type": "code",
   "execution_count": 11,
   "metadata": {},
   "outputs": [],
   "source": [
    "theta = .5"
   ]
  },
  {
   "cell_type": "code",
   "execution_count": 12,
   "metadata": {},
   "outputs": [
    {
     "name": "stdout",
     "output_type": "stream",
     "text": [
      "sigmaP= 0.1\n"
     ]
    },
    {
     "name": "stderr",
     "output_type": "stream",
     "text": [
      "/global/homes/t/toshiyan/.conda/envs/loc/lib/python3.7/site-packages/ipykernel_launcher.py:3: RuntimeWarning: invalid value encountered in true_divide\n",
      "  This is separate from the ipykernel package so we can avoid doing imports until\n"
     ]
    },
    {
     "name": "stdout",
     "output_type": "stream",
     "text": [
      "0.026301671742185853 5.873851267714247\n",
      "sigmaP= 0.16681005372000587\n",
      "0.03673913537500575 6.391085544739474\n",
      "sigmaP= 0.2782559402207124\n",
      "0.05278352655080743 7.104312744102347\n",
      "sigmaP= 0.46415888336127786\n",
      "0.07802943513180426 8.091668285077011\n",
      "sigmaP= 0.774263682681127\n",
      "0.11886475706164687 9.49759849616506\n",
      "sigmaP= 1.291549665014884\n",
      "0.18762239269763908 11.634011647971324\n",
      "sigmaP= 2.1544346900318834\n",
      "0.3111941474454216 15.23780316762817\n",
      "sigmaP= 3.593813663804626\n",
      "0.5558950100759592 22.124150838695197\n",
      "sigmaP= 5.994842503189409\n",
      "1.0990903179293356 36.91271443108507\n",
      "sigmaP= 10.0\n",
      "2.4333601000875524 71.90632195207537\n"
     ]
    }
   ],
   "source": [
    "sigma_Amp  = np.zeros(len(sigmas))\n",
    "sigma_Kinp = np.zeros(len(sigmas))\n",
    "sigma_Amp0  = np.zeros(len(sigmas))\n",
    "sigma_Kinp0 = np.zeros(len(sigmas))\n",
    "for i, sig in enumerate(sigmas):\n",
    "    print('sigmaP=',sig)\n",
    "    ClG = local.add_noise(lcl,sig,theta,lBmin=2,alpha=0.,fg=True)\n",
    "    Ag = local.rec(rlmax,rlmin,rlmax,rcl[:,:rlmax+1],ClG[:,:rlmax+1],qdo=['BB'],est='amp')\n",
    "    sigma_Amp[i]  = 1./snr_ilens(Ag,ucl[:,:rlmax+1],L[:rlmax+1],corr=1.)\n",
    "    Ag = local.rec(rlmax,rlmin,rlmax,rcl[:,:rlmax+1],ClG[:,:rlmax+1],qdo=['BB'],est='lens')\n",
    "    sigma_Kinp[i] = 1./snr_ilens(Ag,ucl[:,:rlmax+1],L[:rlmax+1],corr=1.)\n",
    "    ClG = local.add_noise(lcl,sig,theta,lBmin=2,alpha=1.,fg=False)\n",
    "    Ag = local.rec(rlmax,rlmin,rlmax,rcl[:,:rlmax+1],ClG[:,:rlmax+1],qdo=['BB'],est='amp')\n",
    "    sigma_Amp0[i]  = 1./snr_ilens(Ag,ucl[:,:rlmax+1],L[:rlmax+1],corr=1.)\n",
    "    Ag = local.rec(rlmax,rlmin,rlmax,rcl[:,:rlmax+1],ClG[:,:rlmax+1],qdo=['BB'],est='lens')\n",
    "    sigma_Kinp0[i] = 1./snr_ilens(Ag,ucl[:,:rlmax+1],L[:rlmax+1],corr=1.)\n",
    "    print(sigma_Kinp[i],sigma_Amp[i])"
   ]
  },
  {
   "cell_type": "code",
   "execution_count": 14,
   "metadata": {},
   "outputs": [
    {
     "name": "stdout",
     "output_type": "stream",
     "text": [
      "sigmaP= 0.1\n"
     ]
    },
    {
     "name": "stderr",
     "output_type": "stream",
     "text": [
      "/global/homes/t/toshiyan/.conda/envs/loc/lib/python3.7/site-packages/ipykernel_launcher.py:3: RuntimeWarning: invalid value encountered in true_divide\n",
      "  This is separate from the ipykernel package so we can avoid doing imports until\n"
     ]
    },
    {
     "name": "stdout",
     "output_type": "stream",
     "text": [
      "0.08397012417556816 0.00019231525874164598\n",
      "sigmaP= 0.16681005372000587\n",
      "0.08397012417556816 0.0005351286313994604\n",
      "sigmaP= 0.2782559402207124\n",
      "0.08397012417556816 0.0014890272046908012\n",
      "sigmaP= 0.46415888336127786\n",
      "0.08397012417556816 0.004143306648554582\n",
      "sigmaP= 0.774263682681127\n",
      "0.08397012417556816 0.011528996871162815\n",
      "sigmaP= 1.291549665014884\n",
      "0.08397012417556816 0.032080118641870894\n",
      "sigmaP= 2.1544346900318834\n",
      "0.08397012417556816 0.0892648357508575\n",
      "sigmaP= 3.593813663804626\n",
      "0.08397012417556816 0.2483847080050231\n",
      "sigmaP= 5.994842503189409\n",
      "0.08397012417556816 0.6911452046238467\n",
      "sigmaP= 10.0\n",
      "0.08397012417556816 1.9231525874164563\n"
     ]
    }
   ],
   "source": [
    "sigma_amp  = np.zeros(len(sigmas))\n",
    "sigma_kinp = np.zeros(len(sigmas))\n",
    "for i, sig in enumerate(sigmas):\n",
    "    print('sigmaP=',sig)\n",
    "    ClG = local.add_noise(lcl,sig,theta,lBmin=2,alpha=0.,fg=False)\n",
    "    NL_amp = local.rec(rlmax,rlmin,rlmax,rcl[:,:rlmax+1],ClG[:,:rlmax+1],qdo=['BB'],est='amp')\n",
    "    NL_len = local.rec(rlmax,rlmin,rlmax,rcl[:,:rlmax+1],ClG[:,:rlmax+1],qdo=['BB'],est='lens')\n",
    "    sigma_amp[i]  = 1./snr_ilens(NL_amp,ucl[:,:rlmax+1],L[:rlmax+1],corr=1.)\n",
    "    sigma_kinp[i] = 1./snr_ilens(NL_len,ucl[:,:rlmax+1],L[:rlmax+1],corr=1.)\n",
    "    print(sigma_eb,sigma_kinp[i])"
   ]
  },
  {
   "cell_type": "code",
   "execution_count": 17,
   "metadata": {},
   "outputs": [
    {
     "data": {
      "image/png": "[encoded data removed]",
      "text/plain": [
       "<Figure size 432x288 with 1 Axes>"
      ]
     },
     "metadata": {
      "needs_background": "light"
     },
     "output_type": "display_data"
    }
   ],
   "source": [
    "pl.plot_1dstyle(usetex=True,xmin=sigmas[0],xmax=sigmas[-1])\n",
    "xlabel(r'$\\sigma_P$ [$\\mu$K-arcmin]')\n",
    "ylabel(r'$\\sigma_\\beta\\sqrt{f_{\\rm sky}}$ [deg]')\n",
    "loglog(sigmas,sigma_kinp,label=r'$\\kappa$',color=cr[1])\n",
    "loglog(sigmas,sigma_amp*1e-1,label=r'$\\delta\\tau$ ($\\sigma_\\beta/10$)',color=cr[2])\n",
    "loglog(sigmas,sigma_Kinp,ls='--',color=cr[1],label=r'w/ FG, $\\alpha=0$')\n",
    "loglog(sigmas,sigma_Amp*1e-1,ls='--',color=cr[2])\n",
    "loglog(sigmas,sigma_Kinp0,ls='-.',color=cr[1],label=r'w/o FG, $\\alpha=1$')\n",
    "loglog(sigmas,sigma_Amp0*1e-1,ls='-.',color=cr[2])\n",
    "legend()\n",
    "savefig('fig_const_reion_t'+str(theta).replace('.','p')+'_lmax'+str(rlmax)+'_ideal.pdf')"
   ]
  },
  {
   "cell_type": "code",
   "execution_count": null,
   "metadata": {},
   "outputs": [],
   "source": []
  }
 ],
 "metadata": {
  "kernelspec": {
   "display_name": "py4so",
   "language": "python",
   "name": "py4so"
  },
  "language_info": {
   "codemirror_mode": {
    "name": "ipython",
    "version": 3
   },
   "file_extension": ".py",
   "mimetype": "text/x-python",
   "name": "python",
   "nbconvert_exporter": "python",
   "pygments_lexer": "ipython3",
   "version": "3.7.2"
  }
 },
 "nbformat": 4,
 "nbformat_minor": 4
}

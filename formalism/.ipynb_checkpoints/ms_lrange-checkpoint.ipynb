{
 "cells": [
  {
   "cell_type": "code",
   "execution_count": 1,
   "metadata": {},
   "outputs": [],
   "source": [
    "import numpy as np, curvedsky as cs, plottools as pl, cmb as CMB, local, tqdm\n",
    "from matplotlib.pyplot import *"
   ]
  },
  {
   "cell_type": "code",
   "execution_count": 2,
   "metadata": {},
   "outputs": [],
   "source": [
    "def snr_ilens(Ag,ucl,L,corr=1.):\n",
    "    #Nl = 1./(1./Ag['EB']+1./Ag['TB']+1./Ag['BB'])\n",
    "    SN = (2*L+1.)*ucl[3]/Ag['BB'] * corr**2\n",
    "    sn = np.pi/180. * np.sqrt( np.sum(SN[2:]) )\n",
    "    return sn"
   ]
  },
  {
   "cell_type": "code",
   "execution_count": 19,
   "metadata": {},
   "outputs": [],
   "source": [
    "def snr_eb_l(lcl,ocl,L):\n",
    "    SN = (2*L+1.)*(lcl[1,:]-lcl[2,:])**2/( ocl[1,:]*ocl[2,:] )\n",
    "    sn = np.pi/180. * 2. * np.sqrt( np.cumsum(SN) ) \n",
    "    return sn"
   ]
  },
  {
   "cell_type": "code",
   "execution_count": 59,
   "metadata": {},
   "outputs": [],
   "source": [
    "Lmax  = 3000       # maximum multipole of output normalization\n",
    "L = np.linspace(0,Lmax,Lmax+1)\n",
    "sig = 1.\n",
    "theta = 1."
   ]
  },
  {
   "cell_type": "code",
   "execution_count": 55,
   "metadata": {},
   "outputs": [],
   "source": [
    "ucl = CMB.read_camb_cls('../data_local/cosmo2017_10K_acc3_scalCls.dat',output='array')[:,:Lmax+1]\n",
    "lcl = CMB.read_camb_cls('../data_local/cosmo2017_10K_acc3_lensedCls.dat',ftype='lens',output='array')[:,:Lmax+1]"
   ]
  },
  {
   "cell_type": "code",
   "execution_count": 60,
   "metadata": {},
   "outputs": [],
   "source": [
    "ocl = local.noise(lcl,sig,theta,lBmin=2)\n",
    "snrl_eb = snr_eb_l(lcl,ocl,L)"
   ]
  },
  {
   "cell_type": "code",
   "execution_count": 66,
   "metadata": {},
   "outputs": [
    {
     "name": "stdout",
     "output_type": "stream",
     "text": [
      "2\n",
      "[ 200 1000 1800]\n"
     ]
    },
    {
     "name": "stderr",
     "output_type": "stream",
     "text": [
      "/tmp/ipykernel_8222/1036000403.py:4: DeprecationWarning: `np.int` is a deprecated alias for the builtin `int`. To silence this warning, use `int` by itself. Doing this will not modify any behavior and is safe. When replacing `np.int`, you may wish to use e.g. `np.int64` or `np.int32` to specify the precision. If you wish to review your current use, check the release note link for additional information.\n",
      "Deprecated in NumPy 1.20; for more details and guidance: https://numpy.org/devdocs/release/1.20.0-notes.html#deprecations\n",
      "  rlmins = np.linspace(200,200+dell*bn,bn+1,dtype=np.int)\n"
     ]
    }
   ],
   "source": [
    "dell = 800\n",
    "bn   = int((Lmax-dell)/dell)\n",
    "print(bn)\n",
    "rlmins = np.linspace(200,200+dell*bn,bn+1,dtype=np.int)\n",
    "rlmaxs = rlmins + dell\n",
    "print(rlmins)"
   ]
  },
  {
   "cell_type": "code",
   "execution_count": 67,
   "metadata": {},
   "outputs": [
    {
     "name": "stderr",
     "output_type": "stream",
     "text": [
      "0it [00:00, ?it/s]/tmp/ipykernel_8222/2489700825.py:3: RuntimeWarning: invalid value encountered in true_divide\n",
      "  SN = (2*L+1.)*ucl[3]/Ag['BB'] * corr**2\n",
      "1it [00:02,  2.16s/it]"
     ]
    },
    {
     "name": "stdout",
     "output_type": "stream",
     "text": [
      " norm qBB\n",
      "200 1000 557.7611631390472 546.6593938275873\n"
     ]
    },
    {
     "name": "stderr",
     "output_type": "stream",
     "text": [
      "2it [00:05,  2.60s/it]"
     ]
    },
    {
     "name": "stdout",
     "output_type": "stream",
     "text": [
      " norm qBB\n",
      "1000 1800 620.1169018158648 657.8985706351074\n",
      " norm qBB\n"
     ]
    },
    {
     "name": "stderr",
     "output_type": "stream",
     "text": [
      "3it [00:08,  2.89s/it]"
     ]
    },
    {
     "name": "stdout",
     "output_type": "stream",
     "text": [
      "1800 2600 248.36972305377563 448.77006199900796\n"
     ]
    },
    {
     "name": "stderr",
     "output_type": "stream",
     "text": [
      "\n"
     ]
    }
   ],
   "source": [
    "snrl_rec = np.zeros(len(rlmins))\n",
    "for l, (rlmin, rlmax) in tqdm.tqdm(enumerate(zip(rlmins,rlmaxs))):\n",
    "    Ag = local.rec(Lmax,rlmin,rlmax,lcl[:,:rlmax+1],ocl[:,:rlmax+1],qdo=['BB'])\n",
    "    snrl_rec[l] = snr_ilens(Ag,ucl,L,corr=1.)\n",
    "    snrl_eb = snr_eb_l(lcl[:,rlmin:rlmax+1],ocl[:,rlmin:rlmax+1],L[rlmin:rlmax+1])\n",
    "    print(rlmin,rlmax,snrl_rec[l],snrl_eb[-1])"
   ]
  },
  {
   "cell_type": "code",
   "execution_count": null,
   "metadata": {},
   "outputs": [],
   "source": []
  }
 ],
 "metadata": {
  "kernelspec": {
   "display_name": "Python 3 (ipykernel)",
   "language": "python",
   "name": "python3"
  },
  "language_info": {
   "codemirror_mode": {
    "name": "ipython",
    "version": 3
   },
   "file_extension": ".py",
   "mimetype": "text/x-python",
   "name": "python",
   "nbconvert_exporter": "python",
   "pygments_lexer": "ipython3",
   "version": "3.9.7"
  }
 },
 "nbformat": 4,
 "nbformat_minor": 4
}

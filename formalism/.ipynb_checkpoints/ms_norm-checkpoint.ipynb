{
 "cells": [
  {
   "cell_type": "code",
   "execution_count": 1,
   "metadata": {},
   "outputs": [],
   "source": [
    "import numpy as np, basic, curvedsky as cs, plottools as pl, healpy as hp, binning as bn, analysis as ana, cmb as CMB, local\n",
    "from matplotlib.pyplot import *\n",
    "Tcmb  = 2.726e6    # CMB temperature\n",
    "ac2rad = np.pi/180./60."
   ]
  },
  {
   "cell_type": "code",
   "execution_count": 2,
   "metadata": {},
   "outputs": [],
   "source": [
    "# define parameters\n",
    "lmax  = 4000       # maximum multipole of output normalization\n",
    "rlmin, rlmax = 100, lmax  # reconstruction multipole range\n",
    "sig   = 5.\n",
    "theta = 1.\n",
    "L = np.linspace(0,lmax,lmax+1)"
   ]
  },
  {
   "cell_type": "code",
   "execution_count": 4,
   "metadata": {},
   "outputs": [],
   "source": [
    "ucl = CMB.read_camb_cls('../data_local/cosmo2017_10K_acc3_scalCls.dat',output='array')[:,:lmax+1]\n",
    "lcl = CMB.read_camb_cls('../data_local/cosmo2017_10K_acc3_lensedCls.dat',ftype='lens',output='array')[:,:lmax+1]\n",
    "ocl = local.noise(lcl,sig,theta)"
   ]
  },
  {
   "cell_type": "code",
   "execution_count": 5,
   "metadata": {},
   "outputs": [],
   "source": [
    "Ag = local.rec(rlmax,rlmin,rlmax,lcl,ocl,qdo=['TE','TB','EE','EB','BB'])"
   ]
  },
  {
   "cell_type": "code",
   "execution_count": 6,
   "metadata": {},
   "outputs": [],
   "source": [
    "labs = [r'$\\Theta E$',r'$\\Theta B$',r'$EE$',r'$EB$',r'$BB$']\n",
    "quad = ['TE','TB','EE','EB','BB']\n",
    "color = ['c','m','g','b','y']"
   ]
  },
  {
   "cell_type": "code",
   "execution_count": null,
   "metadata": {},
   "outputs": [],
   "source": [
    "s = (L*(L+1))**2/2/np.pi\n",
    "#Ag['MV'] = 1./(1./Ag['BB']+1./Ag['EB'])\n",
    "pl.plot_1dstyle(usetex=True,fsize=[7,5],xmin=2,xmax=1000,ymin=1e-11,ymax=4e-6,xlog=True,ylog=True,ylabsize=16,xticks_labsize=13,\\\n",
    "                yticks_labsize=13,legend_size=12,ylab=r'$[L(L+1)]^2 N^{\\widetilde{\\phi},(XY)}_L/2\\pi$')\n",
    "for qi, (q,lab,c) in enumerate(zip(quad,labs,color)):\n",
    "    plot(s*Ag[q],color=c,ls='-',label=lab)\n",
    "#plot(s*Ag['MV'],color='r',ls='-',label='$BB+EB$')\n",
    "plot(s*ucl[3,:]*np.pi/180.,color='k',ls='--',lw=.5)\n",
    "legend(ncol=2)\n",
    "savefig('fig_norm.pdf')"
   ]
  },
  {
   "cell_type": "code",
   "execution_count": null,
   "metadata": {},
   "outputs": [],
   "source": []
  }
 ],
 "metadata": {
  "kernelspec": {
   "display_name": "py4so",
   "language": "python",
   "name": "py4so"
  },
  "language_info": {
   "codemirror_mode": {
    "name": "ipython",
    "version": 3
   },
   "file_extension": ".py",
   "mimetype": "text/x-python",
   "name": "python",
   "nbconvert_exporter": "python",
   "pygments_lexer": "ipython3",
   "version": "3.7.2"
  }
 },
 "nbformat": 4,
 "nbformat_minor": 4
}

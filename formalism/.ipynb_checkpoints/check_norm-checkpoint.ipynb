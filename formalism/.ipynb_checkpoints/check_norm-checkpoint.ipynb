{
 "cells": [
  {
   "cell_type": "markdown",
   "metadata": {},
   "source": [
    "# A simple example of imaginary lensing estimator modules"
   ]
  },
  {
   "cell_type": "code",
   "execution_count": 1,
   "metadata": {},
   "outputs": [],
   "source": [
    "# external\n",
    "import numpy as np\n",
    "from matplotlib.pyplot import *\n",
    "# from cmblensplus/wrap/\n",
    "import basic\n",
    "import curvedsky as cs\n",
    "# from cmblensplus/utils/\n",
    "import plottools as pl\n",
    "import cmb as CMB"
   ]
  },
  {
   "cell_type": "markdown",
   "metadata": {},
   "source": [
    "First define parameters"
   ]
  },
  {
   "cell_type": "code",
   "execution_count": 2,
   "metadata": {},
   "outputs": [],
   "source": [
    "Tcmb  = 2.726e6    # CMB temperature\n",
    "Lmax  = 3000       # maximum multipole of output normalization\n",
    "rlmin, rlmax = 100, Lmax  # CMB multipole range for reconstruction\n",
    "#lbmin = 500\n",
    "L = np.linspace(0,Lmax,Lmax+1)\n",
    "Lfac = (L*(L+1.))**2/(2*np.pi)\n",
    "beta = .35"
   ]
  },
  {
   "cell_type": "code",
   "execution_count": 4,
   "metadata": {},
   "outputs": [],
   "source": [
    "ucl = CMB.read_camb_cls('../data/local/cosmo2017_10K_acc3_scalCls.dat',output='array')[:,:Lmax+1]\n",
    "lcl = CMB.read_camb_cls('../data/local/cosmo2017_10K_acc3_lensedCls.dat',ftype='lens',output='array')[:,:Lmax+1]\n",
    "nl  = np.zeros((4,rlmax+1))\n",
    "ac2rad = np.pi/10800.\n",
    "sig = 70.\n",
    "nl[0,:] = .5*(sig*ac2rad/Tcmb)**2*np.exp(L*(L+1)*(7.*ac2rad)**2/8./np.log(2.))\n",
    "nl[1,:] = 2*nl[0,:]\n",
    "nl[2,:] = 2*nl[0,:]\n",
    "ocl = lcl + nl\n",
    "oclHM = lcl + nl*2"
   ]
  },
  {
   "cell_type": "code",
   "execution_count": null,
   "metadata": {},
   "outputs": [],
   "source": [
    "Ag, Ac = {}, {}\n",
    "Ag['TE'], Ac['TE'] = cs.norm_imag.qte('lens',Lmax,rlmin,rlmax,lcl[3,:],ocl[0,:],ocl[1,:])\n",
    "Ag['EE'], Ac['EE'] = cs.norm_imag.qee('lens',Lmax,rlmin,rlmax,lcl[1,:],ocl[1,:])\n",
    "Ag['TB'], Ac['TB'] = cs.norm_imag.qtb('lens',Lmax,rlmin,rlmax,lcl[3,:],ocl[0,:],ocl[2,:])\n",
    "Ag['EB'], Ac['EB'] = cs.norm_imag.qeb('lens',Lmax,rlmin,rlmax,lcl[1,:],ocl[1,:],ocl[2,:])\n",
    "Ag['BB'], Ac['BB'] = cs.norm_imag.qbb('lens',Lmax,rlmin,rlmax,lcl[1,:],ocl[2,:])"
   ]
  },
  {
   "cell_type": "code",
   "execution_count": null,
   "metadata": {},
   "outputs": [],
   "source": [
    "# plot normalization (gradient)\n",
    "pl.plot_1dstyle(fsize=[7,4],xmin=2,xmax=Lmax,xlog=True,ymin=1e-7,ymax=2e-3,ylog=True,ylab=r'$\\sqrt{L^2(L+1)^2C^{\\phi\\phi}_L/2\\pi}$')\n",
    "for qi, q in enumerate(['TE','EE','TB','EB','BB']):\n",
    "    plot(L,np.sqrt(Lfac*Ag[q]/(2*L+1)),label=q)\n",
    "plot(L,np.sqrt(Lfac*ucl[3]),ls='--',label=r'$\\sqrt{C_L^{\\phi\\phi}}$')\n",
    "plot(L,np.sqrt(Lfac*ucl[3])*np.pi/180.*0.6)\n",
    "legend()"
   ]
  },
  {
   "cell_type": "code",
   "execution_count": null,
   "metadata": {},
   "outputs": [],
   "source": [
    "corr = (0.4-0.9)/(2000.)*L + 0.9\n",
    "Nl = 1./(1./Ag['EB']+1./Ag['TB']+1./Ag['BB']+1./Ag['EE']+1./Ag['TE'])\n",
    "SN = (2*L+1.)*ucl[3]/Nl * corr**2\n",
    "sn = np.pi/180. * np.sqrt( np.sum(SN[2:]) )\n",
    "print(beta*sn)"
   ]
  },
  {
   "cell_type": "code",
   "execution_count": null,
   "metadata": {},
   "outputs": [],
   "source": [
    "Nl = 1./(1./Ag['EB']+1./Ag['TB']+1./Ag['BB']+1./Ag['EE']+1./Ag['TE'])\n",
    "SN = (L+.5)*ucl[3]**2/Nl**2\n",
    "sn = (np.pi/180.)**2 * np.sqrt( np.sum(SN[2:]) )\n",
    "print(beta**2*sn)"
   ]
  },
  {
   "cell_type": "code",
   "execution_count": null,
   "metadata": {},
   "outputs": [],
   "source": [
    "SN = (2*L+1.)*(lcl[1,:]-lcl[2,:])**2/( oclHM[1,:]*oclHM[2,:] )\n",
    "sn = np.pi/180. * 2. * np.sqrt( np.sum(SN[rlmin+1:]) )\n",
    "print(beta*sn)"
   ]
  },
  {
   "cell_type": "code",
   "execution_count": null,
   "metadata": {},
   "outputs": [],
   "source": [
    "pl.plot_1dstyle(fsize=[7,4],xmin=2,xmax=Lmax,xlog=True,ymin=1e-19,ymax=2e-14,ylog=True,ylab=r'$C^{EE}_L/2\\pi$')\n",
    "plot(lcl[1,:])\n",
    "plot(nl[1,:])\n",
    "plot(ocl[2,:])"
   ]
  },
  {
   "cell_type": "code",
   "execution_count": null,
   "metadata": {},
   "outputs": [],
   "source": [
    "plot(SN**0.5*np.pi/180.)"
   ]
  },
  {
   "cell_type": "code",
   "execution_count": null,
   "metadata": {},
   "outputs": [],
   "source": []
  }
 ],
 "metadata": {
  "kernelspec": {
   "display_name": "Python 3",
   "language": "python",
   "name": "python3"
  },
  "language_info": {
   "codemirror_mode": {
    "name": "ipython",
    "version": 3
   },
   "file_extension": ".py",
   "mimetype": "text/x-python",
   "name": "python",
   "nbconvert_exporter": "python",
   "pygments_lexer": "ipython3",
   "version": "3.7.2"
  }
 },
 "nbformat": 4,
 "nbformat_minor": 4
}

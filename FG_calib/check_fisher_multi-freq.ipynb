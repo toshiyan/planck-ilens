{
 "cells": [
  {
   "cell_type": "code",
   "execution_count": 1,
   "metadata": {},
   "outputs": [],
   "source": [
    "import numpy as np, curvedsky as cs, plottools as pl, cmb as CMB, cosmology, healpy as hp, local\n",
    "from matplotlib.pyplot import *\n",
    "import warnings\n",
    "warnings.filterwarnings(\"ignore\")\n",
    "ac2rad  = np.pi/10800.\n",
    "deg2rad = np.pi/180."
   ]
  },
  {
   "cell_type": "code",
   "execution_count": 2,
   "metadata": {},
   "outputs": [],
   "source": [
    "def noise_fg(lcl,sigp,theta,nu,name,split=False,Ad=4.7,As=1.5):\n",
    "    lmax = len(lcl[0,:]) - 1\n",
    "    L = np.linspace(0,lmax,lmax+1)\n",
    "    nl = np.zeros((4,lmax+1))\n",
    "    nl[0,:] = .5*(sigp*ac2rad/CMB.Tcmb)**2*np.exp(L*(L+1)*(theta*ac2rad)**2/8./np.log(2.))\n",
    "    nl[1,:] = 2*nl[0,:]\n",
    "    nl[2,:] = 2*nl[0,:]\n",
    "    if split:\n",
    "        nl *= 2.\n",
    "    if nu!=0.:\n",
    "        fEE, fBB = foreground(nu,nu,L,name,Ad=Ad,As=As)\n",
    "        nl[1,:] += fEE\n",
    "        nl[2,:] += fBB\n",
    "    return lcl + nl"
   ]
  },
  {
   "cell_type": "code",
   "execution_count": 3,
   "metadata": {},
   "outputs": [],
   "source": [
    "def rec(Lmax,rlmin,rlmax,lcl,ocl):\n",
    "    Ag = {}\n",
    "    #Ag['TE'], __ = cs.norm_ilens.qte(Lmax,rlmin,rlmax,lcl[3,:],ocl[0,:],ocl[1,:])\n",
    "    #Ag['EE'], __ = cs.norm_ilens.qee(Lmax,rlmin,rlmax,lcl[1,:],ocl[1,:])\n",
    "    Ag['TB'] = cs.norm_imag.qtb('lens',Lmax,rlmin,rlmax,lcl[3,:],ocl[0,:],ocl[2,:])[0]\n",
    "    Ag['EB'] = cs.norm_imag.qeb('lens',Lmax,rlmin,rlmax,lcl[1,:],ocl[1,:],ocl[2,:])[0]\n",
    "    Ag['BB'] = cs.norm_imag.qbb('lens',Lmax,rlmin,rlmax,lcl[1,:],ocl[2,:])[0]\n",
    "    return Ag"
   ]
  },
  {
   "cell_type": "code",
   "execution_count": 4,
   "metadata": {},
   "outputs": [],
   "source": [
    "def foreground(nu0,nu1,L,name,beta_d=1.5,beta_s=-3.1,Ad=4.7,As=1.5):\n",
    "    L80 = L/80.\n",
    "    if name in ['LiteBIRD','LiteBIRDHFI','PlanckHFI','PlanckSingle','PlanckHFI2','PICO','CMBHFI']:\n",
    "        dust, sync = 2e2, 25.\n",
    "    if name in ['B3Keck','BA']:\n",
    "        dust, sync = 1., 1.\n",
    "    if name in ['AdvACT','ACTPol']: \n",
    "        dust, sync = 10., 10.\n",
    "    dBB = dust*(Ad/CMB.Tcmb**2)*L80**(-0.58) * CMB.Int_dust(nu0,beta=beta_d) * CMB.Int_dust(nu1,beta=beta_d) / CMB.Int_dust(353.,beta=beta_d)**2 * (2*np.pi/L/(L+1.)) \n",
    "    sBB = sync*(As/CMB.Tcmb**2)*L80**(-0.8) * (nu0*nu1/23**2)**beta_s * (2*np.pi/L/(L+1.))\n",
    "    fBB = dBB + sBB\n",
    "    fEE = 2*dBB + 4*sBB\n",
    "    return fEE, fBB"
   ]
  },
  {
   "cell_type": "code",
   "execution_count": 5,
   "metadata": {},
   "outputs": [],
   "source": [
    "def Fij_eb(lcl,lmin,lmax,name,alpha=0.,beta=.0):\n",
    "    freqs, sigps, thetas = local.experiments(name)\n",
    "    #freqs, sigps, thetas = freqs[:3], sigps[:3], thetas[:3]\n",
    "    ln = lmax-lmin+1\n",
    "    nn = len(freqs)\n",
    "    pn = 1 + nn\n",
    "    pa = deg2rad * np.ones(nn) * alpha \n",
    "    pb = deg2rad * beta \n",
    "    L = np.linspace(lmin,lmax,ln)\n",
    "    lEE = lcl[1,lmin:lmax+1]\n",
    "    lBB = lcl[2,lmin:lmax+1]\n",
    "    # covariance\n",
    "    Cov = np.zeros((2*nn,2*nn,ln))\n",
    "    for i0, nu0 in enumerate(freqs):\n",
    "        for i1, nu1 in enumerate(freqs):\n",
    "            # foreground\n",
    "            fEE, fBB = foreground(nu0,nu1,L,name)\n",
    "            # covariance\n",
    "            if nu0 == nu1:\n",
    "                ocl = noise_fg(lcl,sigps[i0],thetas[i0],nu0,name,split=True)\n",
    "                Cov[2*i0,2*i1,:] = ocl[1,lmin:lmax+1]\n",
    "                Cov[2*i0+1,2*i1+1,:] = ocl[2,lmin:lmax+1]\n",
    "            else:\n",
    "                Cov[2*i0,2*i1,:] = fEE + lEE\n",
    "                Cov[2*i0+1,2*i1+1,:] = fBB + lBB\n",
    "            #Cov[2*i0,2*i1+1,:] = 2*pa[i1]*fEE - 2*pa[i0]*fBB + 2*(pa[i1]+pb)*lEE - 2*(pa[i0]+pb)*lBB \n",
    "            #Cov[2*i0+1,2*i1,:] = 2*pa[i0]*fEE - 2*pa[i1]*fBB + 2*(pa[i0]+pb)*lEE - 2*(pa[i1]+pb)*lBB \n",
    "    iCov = np.array( [ np.linalg.inv(Cov[:,:,l]) for l in range(ln) ] )\n",
    "    dlnCdp = np.zeros((2*nn,2*nn,ln,pn))\n",
    "    for i in range(pn):\n",
    "        dCov = np.zeros((2*nn,2*nn,ln))\n",
    "        if i==0: # beta\n",
    "            for i0, nu0 in enumerate(freqs):\n",
    "                for i1, nu1 in enumerate(freqs):\n",
    "                    dCov[2*i0,2*i1+1,:] = 2*(lEE-lBB)\n",
    "                    dCov[2*i0+1,2*i1,:] = 2*(lEE-lBB) \n",
    "        else: # alpha_nu\n",
    "            for i0, nu0 in enumerate(freqs):\n",
    "                if i-1==i0:\n",
    "                    fEE, fBB = foreground(nu0,nu0,L,name)\n",
    "                    dCov[2*i0,2*i0+1,:] = 2*(fEE-fBB) + 2*(lEE-lBB) \n",
    "                    dCov[2*i0+1,2*i0,:] = 2*(fEE-fBB) + 2*(lEE-lBB) \n",
    "                else:\n",
    "                    fEE, fBB = foreground(nu0,freqs[i-1],L,name)\n",
    "                    dCov[2*(i-1),2*i0+1,:] = -2*fBB - 2*lBB \n",
    "                    dCov[2*(i-1)+1,2*i0,:] = 2*fEE + 2*lEE \n",
    "                    dCov[2*i0,2*(i-1)+1,:] = 2*fEE + 2*lEE \n",
    "                    dCov[2*i0+1,2*(i-1),:] = -2*fBB - 2*lBB \n",
    "        for l in range(ln):\n",
    "            dlnCdp[:,:,l,i] = np.dot(iCov[l,:,:],dCov[:,:,l])\n",
    "    Fl = cosmology.Fisher_Matrix(L,dlnCdp)\n",
    "    F = np.sum( Fl, axis=2 ) \n",
    "    return F * deg2rad**2"
   ]
  },
  {
   "cell_type": "code",
   "execution_count": 6,
   "metadata": {},
   "outputs": [],
   "source": [
    "def rec_nu(lcl,lmax,rlmin,rlmax,name):\n",
    "    freqs, sigps, thetas = local.experiments(name)\n",
    "    if 'Planck' in name:\n",
    "        sigp_comb, theta_comb, nu_comb = 70., 7., 0.\n",
    "    if 'CMBHFI' in name:\n",
    "        sigp_comb, theta_comb, nu_comb = .8, 1., 0.        \n",
    "    nn = len(freqs)\n",
    "    # noise computation\n",
    "    Al = np.zeros((3,nn,lmax+1))\n",
    "    Nl = np.zeros((nn,nn,lmax+1))\n",
    "    # compute auto first\n",
    "    for i0, nu0 in enumerate(freqs):\n",
    "        print(nu0)\n",
    "        oclc = noise_fg(lcl,sigp_comb,theta_comb,nu_comb,name)\n",
    "        ocl0 = noise_fg(lcl,sigps[i0],thetas[i0],0.,name)\n",
    "        ocl = oclc.copy()\n",
    "        ocl[2,:] = ocl0[2,:]*1.\n",
    "        Ag = rec(lmax,rlmin,rlmax,lcl,ocl)\n",
    "        Al[0,i0,:] = Ag['TB'] \n",
    "        Al[1,i0,:] = Ag['EB'] \n",
    "        Al[2,i0,:] = Ag['BB'] \n",
    "        Nl[i0,i0,:] = 1./(1./Ag['TB'] + 1./Ag['EB'] + 1./Ag['BB'])\n",
    "    for i0, nu0 in enumerate(freqs):\n",
    "        for i1, nu1 in enumerate(freqs):\n",
    "            if i0==i1: continue\n",
    "            print(nu0,nu1)\n",
    "            oclc = noise_fg(lcl,sigp_comb,theta_comb,nu_comb,name)\n",
    "            ocl0 = noise_fg(lcl,sigps[i0],thetas[i0],0.,name)\n",
    "            ocl1 = noise_fg(lcl,sigps[i1],thetas[i1],0.,name)\n",
    "            ocl = oclc.copy()\n",
    "            ocl[2,:] = ocl0[2,:]*ocl1[2,:]/lcl[2,:]\n",
    "            Ag = rec(lmax,rlmin,rlmax,lcl,ocl)\n",
    "            Ag['TB'] = Al[0,i0,:]*Al[0,i1,:]/Ag['TB'] \n",
    "            Ag['EB'] = Al[1,i0,:]*Al[1,i1,:]/Ag['EB'] \n",
    "            Ag['BB'] = Al[2,i0,:]*Al[2,i1,:]/Ag['BB'] \n",
    "            Nl[i0,i1,:] = 1./(1./Ag['TB'] + 1./Ag['EB'] + 1./Ag['BB'])\n",
    "    return Nl"
   ]
  },
  {
   "cell_type": "code",
   "execution_count": 7,
   "metadata": {},
   "outputs": [],
   "source": [
    "def Fij_im(lcl,ucl,lmin,lmax,rlmin,rlmax,name,Nl,alpha=0.,beta=0.,corr=2.):\n",
    "    freqs, sigps, thetas = local.experiments(name)\n",
    "    ln = lmax-lmin+1\n",
    "    nn = len(freqs)\n",
    "    pn = 1 + nn\n",
    "    L = np.linspace(lmin,lmax,ln)\n",
    "    # covariance\n",
    "    cpp = ucl[3,lmin:lmax+1]\n",
    "    Cov = np.zeros((1+nn,1+nn,ln))\n",
    "    Cov[0,0,:] = cpp*corr**2\n",
    "    for i0 in range(nn):\n",
    "        for i1 in range(nn):\n",
    "            Cov[i0+1,i1+1,:] = Nl[i0,i1,lmin:lmax+1]\n",
    "    # derivative\n",
    "    iCov = np.array( [ np.linalg.inv(Cov[:,:,l]) for l in range(ln) ] )\n",
    "    dlnCdp = np.zeros((1+nn,1+nn,ln,pn))\n",
    "    for i in range(pn):\n",
    "        dCov = np.zeros((1+nn,1+nn,ln))\n",
    "        if i==0: # beta\n",
    "            for i0 in range(nn):\n",
    "                dCov[0,i0+1,:] = cpp*corr\n",
    "                dCov[i0+1,0,:] = cpp*corr\n",
    "        else: # alpha_nu\n",
    "            dCov[0,i,:] = cpp*corr\n",
    "            dCov[i,0,:] = cpp*corr\n",
    "        for l in range(ln):\n",
    "            dlnCdp[:,:,l,i] = np.dot(iCov[l,:,:],dCov[:,:,l])\n",
    "    Fl = cosmology.Fisher_Matrix(L,dlnCdp)\n",
    "    F = np.sum( Fl, axis=2 ) \n",
    "    return F * deg2rad**2"
   ]
  },
  {
   "cell_type": "code",
   "execution_count": 8,
   "metadata": {},
   "outputs": [],
   "source": [
    "def show_const(Fmatrix,text='',calcsig=True):\n",
    "    usig = 1./np.sqrt(Fmatrix.diagonal())\n",
    "    if calcsig: \n",
    "        sig  = np.sqrt(np.linalg.inv(Fmatrix).diagonal())\n",
    "        print(text+'const (deg):',sig)\n",
    "    print(text+'const (deg):',usig)"
   ]
  },
  {
   "cell_type": "code",
   "execution_count": 9,
   "metadata": {},
   "outputs": [],
   "source": [
    "Lmax  = 2048       # maximum multipole of output normalization\n",
    "rlmin, rlmax = 50, Lmax  # CMB multipole range for reconstruction"
   ]
  },
  {
   "cell_type": "code",
   "execution_count": 10,
   "metadata": {},
   "outputs": [],
   "source": [
    "ucl = CMB.read_camb_cls('data_local/cosmo2017_10K_acc3_scalCls.dat',output='array')[:,:Lmax+1]\n",
    "lcl = CMB.read_camb_cls('data_local/cosmo2017_10K_acc3_lensedCls.dat',ftype='lens',output='array')[:,:Lmax+1]"
   ]
  },
  {
   "cell_type": "code",
   "execution_count": 11,
   "metadata": {},
   "outputs": [],
   "source": [
    "#name = 'LiteBIRDHFI'\n",
    "#name = 'PlanckSingle'\n",
    "#name = 'PlanckHFI'\n",
    "name = 'CMBHFI'"
   ]
  },
  {
   "cell_type": "code",
   "execution_count": 12,
   "metadata": {},
   "outputs": [
    {
     "name": "stdout",
     "output_type": "stream",
     "text": [
      "const (deg): [0.01984625 0.01986751 0.01980238 0.01975229 0.01974622]\n",
      "const (deg): [0.00137938 0.00156271 0.00082683 0.00044939 0.00057606]\n"
     ]
    }
   ],
   "source": [
    "F = Fij_eb(lcl,rlmin,Lmax,name,alpha=0.,beta=0.)\n",
    "__ = show_const( F )"
   ]
  },
  {
   "cell_type": "code",
   "execution_count": 13,
   "metadata": {},
   "outputs": [
    {
     "name": "stdout",
     "output_type": "stream",
     "text": [
      "100.0\n",
      "143.0\n",
      "217.0\n",
      "353.0\n",
      "100.0 143.0\n",
      "100.0 217.0\n",
      "100.0 353.0\n",
      "143.0 100.0\n",
      "143.0 217.0\n",
      "143.0 353.0\n",
      "217.0 100.0\n",
      "217.0 143.0\n",
      "217.0 353.0\n",
      "353.0 100.0\n",
      "353.0 143.0\n",
      "353.0 217.0\n"
     ]
    }
   ],
   "source": [
    "Nl = rec_nu(lcl,Lmax,rlmin,rlmax,name)"
   ]
  },
  {
   "cell_type": "code",
   "execution_count": 14,
   "metadata": {},
   "outputs": [
    {
     "name": "stdout",
     "output_type": "stream",
     "text": [
      "const (deg): [0.00106452 0.00169057 0.0009072  0.00122406 0.00237218]\n"
     ]
    }
   ],
   "source": [
    "Fp = Fij_im(lcl,ucl,2,Lmax,rlmin,rlmax,name,Nl,alpha=0.,beta=0.)\n",
    "__ = show_const( Fp, calcsig=False )"
   ]
  },
  {
   "cell_type": "code",
   "execution_count": 15,
   "metadata": {},
   "outputs": [
    {
     "name": "stdout",
     "output_type": "stream",
     "text": [
      "const (deg): [0.01978363 0.01979894 0.01977286 0.01975141 0.01974608]\n",
      "const (deg): [0.00084274 0.00114755 0.0006111  0.00042185 0.00055979]\n"
     ]
    }
   ],
   "source": [
    "__ = show_const( Fp + F )"
   ]
  },
  {
   "cell_type": "code",
   "execution_count": null,
   "metadata": {},
   "outputs": [],
   "source": []
  }
 ],
 "metadata": {
  "kernelspec": {
   "display_name": "Python 3",
   "language": "python",
   "name": "python3"
  },
  "language_info": {
   "codemirror_mode": {
    "name": "ipython",
    "version": 3
   },
   "file_extension": ".py",
   "mimetype": "text/x-python",
   "name": "python",
   "nbconvert_exporter": "python",
   "pygments_lexer": "ipython3",
   "version": "3.7.2"
  }
 },
 "nbformat": 4,
 "nbformat_minor": 4
}

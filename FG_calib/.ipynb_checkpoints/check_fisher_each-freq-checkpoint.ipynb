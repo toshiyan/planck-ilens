{
 "cells": [
  {
   "cell_type": "code",
   "execution_count": 1,
   "metadata": {},
   "outputs": [],
   "source": [
    "import numpy as np, curvedsky as cs, plottools as pl, cmb as CMB, cosmology, healpy as hp, local\n",
    "from matplotlib.pyplot import *\n",
    "import warnings\n",
    "warnings.filterwarnings(\"ignore\")\n",
    "ac2rad  = np.pi/10800.\n",
    "deg2rad = np.pi/180."
   ]
  },
  {
   "cell_type": "code",
   "execution_count": 2,
   "metadata": {},
   "outputs": [],
   "source": [
    "def noise(lcl,sigp,theta,nu,name,dalpha=1.):\n",
    "    lmax = len(lcl[0,:]) - 1\n",
    "    L = np.linspace(0,lmax,lmax+1)\n",
    "    nl = np.zeros((4,lmax+1))\n",
    "    nl[0,:] = .5*(sigp*ac2rad/CMB.Tcmb)**2*np.exp(L*(L+1)*(theta*ac2rad)**2/8./np.log(2.))\n",
    "    nl[1,:] = 2*nl[0,:]\n",
    "    nl[2,:] = 2*nl[0,:]\n",
    "    if nu!=0.:\n",
    "        fEE, fBB = local.foreground(nu,L,name)\n",
    "        nl[1,:] += fEE\n",
    "        nl[2,:] += fBB\n",
    "    Lcl = lcl.copy()\n",
    "    Lcl[2,:] *= dalpha\n",
    "    return Lcl + nl"
   ]
  },
  {
   "cell_type": "code",
   "execution_count": 3,
   "metadata": {},
   "outputs": [],
   "source": [
    "def rec(Lmax,rlmin,rlmax,lcl,ocl):\n",
    "    Ag = {}\n",
    "    #Ag['TE'], __ = cs.norm_ilens.qte(Lmax,rlmin,rlmax,lcl[3,:],ocl[0,:],ocl[1,:])\n",
    "    #Ag['EE'], __ = cs.norm_ilens.qee(Lmax,rlmin,rlmax,lcl[1,:],ocl[1,:])\n",
    "    Ag['TB'] = cs.norm_imag.qtb('lens',Lmax,rlmin,rlmax,lcl[3,:],ocl[0,:],ocl[2,:])[0]\n",
    "    Ag['EB'] = cs.norm_imag.qeb('lens',Lmax,rlmin,rlmax,lcl[1,:],ocl[1,:],ocl[2,:])[0]\n",
    "    Ag['BB'] = cs.norm_imag.qbb('lens',Lmax,rlmin,rlmax,lcl[1,:],ocl[2,:])[0]\n",
    "    return Ag"
   ]
  },
  {
   "cell_type": "code",
   "execution_count": 4,
   "metadata": {},
   "outputs": [],
   "source": [
    "def snr_ilens(Ag,ucl,L,corr=1.):\n",
    "    Nl = 1./(1./Ag['EB']+1./Ag['TB']+1./Ag['BB'])\n",
    "    #Nl = 1./(1./Ag['EB']+1./Ag['TB']+1./Ag['BB']+1./Ag['EE']+1./Ag['TE'])\n",
    "    SN = (2*L+1.)*ucl[3]/Nl * corr**2\n",
    "    sn = deg2rad * np.sqrt( np.sum(SN[2:]) )\n",
    "    return sn"
   ]
  },
  {
   "cell_type": "code",
   "execution_count": 5,
   "metadata": {},
   "outputs": [],
   "source": [
    "def make_cov(EE,BB,EB,BE):\n",
    "    return np.array( [ [ EE, EB ], [BE, BB ] ] )"
   ]
  },
  {
   "cell_type": "code",
   "execution_count": 6,
   "metadata": {},
   "outputs": [],
   "source": [
    "def Fij_eb(lcl,ocl,lmin,lmax,nu,name,alpha=0.,beta=.35):\n",
    "    pa = deg2rad * alpha\n",
    "    pb = deg2rad * beta\n",
    "    ln = lmax-lmin+1\n",
    "    pn = 2\n",
    "    L = np.linspace(lmin,lmax,ln)\n",
    "    fEE, fBB = local.foreground(nu,L,name)\n",
    "    lEE = lcl[1,lmin:lmax+1]\n",
    "    lBB = lcl[2,lmin:lmax+1]\n",
    "    oEE = ocl[1,lmin:lmax+1]\n",
    "    oBB = ocl[2,lmin:lmax+1]\n",
    "    oEB = 2*pa*(fEE-fBB) + 2*(pa+pb)*(lEE-lBB)\n",
    "    # derivative\n",
    "    dEBdp = np.zeros((pn,ln))\n",
    "    dEBdp[0] = 2*(fEE-fBB) #+ 2*(lEE-lBB)\n",
    "    dEBdp[1] = 2*(lEE-lBB)\n",
    "    # covariance\n",
    "    Cov = make_cov(oEE,oBB,oEB,oEB)\n",
    "    iCov = np.array( [ np.linalg.inv(Cov[:,:,l]) for l in range(ln) ] )\n",
    "    dlnCdp = np.zeros((2,2,ln,pn))\n",
    "    for i in range(pn):\n",
    "        dCov = make_cov(oEE*0.,oBB*0.,dEBdp[i],dEBdp[i])\n",
    "        for l in range(ln):\n",
    "            dlnCdp[:,:,l,i] = np.dot(iCov[l,:,:],dCov[:,:,l])\n",
    "    Fl = cosmology.Fisher_Matrix(L,dlnCdp)\n",
    "    F = np.sum( Fl, axis=2 ) \n",
    "    return F * deg2rad**2"
   ]
  },
  {
   "cell_type": "code",
   "execution_count": 7,
   "metadata": {},
   "outputs": [],
   "source": [
    "def Fij_eb_old(lcl,ocl,lmin,lmax,nu,name,alpha=0.,beta=.35):\n",
    "    pa = deg2rad * alpha\n",
    "    pb = deg2rad * beta\n",
    "    L = np.linspace(lmin,lmax,lmax-lmin+1)\n",
    "    fEE, fBB = local.foreground(nu,L,name)\n",
    "    lEE = lcl[1,lmin:lmax+1]\n",
    "    lBB = lcl[2,lmin:lmax+1]\n",
    "    oEE = ocl[1,lmin:lmax+1] \n",
    "    oBB = ocl[2,lmin:lmax+1] \n",
    "    oEB = 2*pa*(fEE-fBB) + 2*(pa+pb)*(lEE-lBB)\n",
    "    rho2 = oEB**2/oEE*oBB\n",
    "    fac = (2*L+1.)/(oEE*oBB) * (1+rho2)/(1-rho2)**2\n",
    "    dEBda = 2*(fEE-fBB) + 2*(lEE-lBB)\n",
    "    dEBdb = 2*(lEE-lBB)\n",
    "    F = np.zeros((2,2))\n",
    "    F[0,0] = np.sum( fac * dEBda * dEBda )\n",
    "    F[0,1] = np.sum( fac * dEBdb * dEBda )\n",
    "    F[1,1] = np.sum( fac * dEBdb * dEBdb )\n",
    "    F[1,0] = F[0,1]*1.\n",
    "    return F * deg2rad**2"
   ]
  },
  {
   "cell_type": "code",
   "execution_count": 8,
   "metadata": {},
   "outputs": [],
   "source": [
    "def show_const(Fmatrix,text):\n",
    "    sig  = np.sqrt(np.linalg.inv(Fmatrix).diagonal())\n",
    "    usig = 1./np.sqrt(Fmatrix.diagonal())\n",
    "    print(text+', const (arcmin):',sig*60.,usig*60.)\n",
    "    return sig[0]*60, sig[1]*60, usig[0]*60"
   ]
  },
  {
   "cell_type": "code",
   "execution_count": 9,
   "metadata": {},
   "outputs": [],
   "source": [
    "#Fold = Fij_eb_old(lcl,ocl,rlmin,Lmax,nu,alpha=0.,beta=.01)\n",
    "#sig = np.sqrt(np.linalg.inv(Fold).diagonal())\n",
    "#usig = 1./np.sqrt(Fold.diagonal())\n",
    "#print(sig)\n",
    "#print(usig)"
   ]
  },
  {
   "cell_type": "code",
   "execution_count": 10,
   "metadata": {},
   "outputs": [],
   "source": [
    "Lmax  = 3000       # maximum multipole of output normalization\n",
    "rlmin, rlmax = 50, Lmax  # CMB multipole range for reconstruction\n",
    "L = np.linspace(0,Lmax,Lmax+1)\n",
    "Lfac = L*(L+1)/2/np.pi\n",
    "M = np.array([[1.,0],[1.,1.]])"
   ]
  },
  {
   "cell_type": "code",
   "execution_count": 12,
   "metadata": {},
   "outputs": [],
   "source": [
    "ucl = CMB.read_camb_cls('../data/local/cosmo2017_10K_acc3_scalCls.dat',output='array')[:,:Lmax+1]\n",
    "lcl = CMB.read_camb_cls('../data/local/cosmo2017_10K_acc3_lensedCls.dat',ftype='lens',output='array')[:,:Lmax+1]"
   ]
  },
  {
   "cell_type": "code",
   "execution_count": 13,
   "metadata": {},
   "outputs": [],
   "source": [
    "name = 'Planck'\n",
    "freqs, sigps, thetas = local.experiments(name)"
   ]
  },
  {
   "cell_type": "code",
   "execution_count": 14,
   "metadata": {},
   "outputs": [
    {
     "name": "stdout",
     "output_type": "stream",
     "text": [
      "30.0 424.26406871192853 33.2\n",
      "alpha,theta, const (arcmin): [  68.85478814 2143.65939192] [  57.3595334  1785.77707984]\n",
      "alpha,beta, const (arcmin): [  68.85478814 2182.50350235] [  56.33865071 1785.77707984]\n",
      "sn 19.267103229984325\n",
      "joint\n",
      "alpha,theta, const (arcmin): [  60.141449   1017.50109711] [ 57.3595334  970.43535095]\n",
      "alpha,beta, const (arcmin): [  60.141449   1037.16817974] [ 56.27186536 970.43535095]\n",
      "\n",
      "44.0 424.26406871192853 28.0\n",
      "alpha,theta, const (arcmin): [ 476.28709902 1407.77919561] [ 425.28100203 1257.01860951]\n",
      "alpha,beta, const (arcmin): [ 476.28709902 1677.04093104] [ 356.99888766 1257.01860951]\n",
      "sn 13.985778836119362\n",
      "joint\n",
      "alpha,theta, const (arcmin): [439.22606093 720.80647196] [425.28100203 697.92147127]\n",
      "alpha,beta, const (arcmin): [439.22606093 933.14935993] [328.5061447  697.92147127]\n",
      "\n",
      "70.0 271.5290039756343 13.0\n",
      "alpha,theta, const (arcmin): [2426.41080579  197.29030285] [2365.59665818  192.34553358]\n",
      "alpha,beta, const (arcmin): [2426.41080579 2477.78152616] [188.35772088 192.34553358]\n",
      "sn 3.176423030974975\n",
      "joint\n",
      "alpha,theta, const (arcmin): [2395.14558723  137.07330731] [2365.59665818  135.38223289]\n",
      "alpha,beta, const (arcmin): [2395.14558723 2420.39969231] [133.96967398 135.38223289]\n",
      "\n",
      "100.0 73.53910524340095 9.7\n",
      "alpha,theta, const (arcmin): [127.41801892  13.33923376] [124.11414121  12.99335492]\n",
      "alpha,beta, const (arcmin): [127.41801892 131.08151412] [12.63021375 12.99335492]\n",
      "sn 0.42658452925037776\n",
      "joint\n",
      "alpha,theta, const (arcmin): [126.71955653  11.82915065] [124.11414121  11.58593759]\n",
      "alpha,beta, const (arcmin): [126.71955653 129.62476332] [11.3262685  11.58593759]\n",
      "\n",
      "143.0 62.22539674441619 7.3\n",
      "alpha,theta, const (arcmin): [26.25870793  9.17620304] [25.15784969  8.79150404]\n",
      "alpha,beta, const (arcmin): [26.25870793 30.19595841] [7.64517998 8.79150404]\n",
      "sn 0.2913085548413947\n",
      "joint\n",
      "alpha,theta, const (arcmin): [26.02478967  8.12459407] [25.15784969  7.85394691]\n",
      "alpha,beta, const (arcmin): [26.02478967 29.18113502] [7.00443339 7.85394691]\n",
      "\n",
      "217.0 90.50966799187809 5.0\n",
      "alpha,theta, const (arcmin): [12.33228411 20.64734053] [10.6949803  17.90608278]\n",
      "alpha,beta, const (arcmin): [12.33228411 28.8436722 ] [ 7.65585251 17.90608278]\n",
      "sn 0.4645946666671573\n",
      "joint\n",
      "alpha,theta, const (arcmin): [11.7783039  16.59169231] [10.6949803  15.06565154]\n",
      "alpha,beta, const (arcmin): [11.7783039  24.03631636] [ 7.38248822 15.06565154]\n",
      "\n",
      "353.0 390.32294321497426 4.9\n",
      "alpha,theta, const (arcmin): [ 11.7911134  375.73258609] [ 10.01054117 318.99332924]\n",
      "alpha,beta, const (arcmin): [ 11.7911134  382.09426571] [  9.84387063 318.99332924]\n",
      "sn 3.2614151594228646\n",
      "joint\n",
      "alpha,theta, const (arcmin): [ 10.41603311 173.5574331 ] [ 10.01054117 166.80091267]\n",
      "alpha,beta, const (arcmin): [ 10.41603311 176.71917986] [  9.83143895 166.80091267]\n",
      "\n"
     ]
    }
   ],
   "source": [
    "sig = {}\n",
    "for nu, sigp, theta in zip(freqs,sigps,thetas):\n",
    "    print(nu,sigp,theta)\n",
    "    sig[nu] = np.zeros(7)\n",
    "    ocl = noise(lcl,sigp*2.,theta,nu,name)\n",
    "    F = Fij_eb(lcl,ocl,rlmin,Lmax,nu,name,alpha=0.,beta=0.)\n",
    "    __ = show_const( F, text=r'alpha,theta' )\n",
    "    sig[0], sig[1], sig[2] = show_const( np.matmul(M.T,np.matmul(F,M)), text=r'alpha,beta' )\n",
    "    ocl = noise(lcl,sigp,theta,nu,name)\n",
    "    Ag  = rec(Lmax,rlmin,rlmax,lcl,ocl)\n",
    "    snr = snr_ilens(Ag,ucl,L,corr=(0.4-0.9)/(2000.)*L+0.9)\n",
    "    sig[3] = 60./snr\n",
    "    print('sigma[deg]',sig[3]/60.)\n",
    "    print('joint')\n",
    "    Fpp = F + np.array([[0,0],[0,snr**2]])\n",
    "    __ = show_const( Fpp, text=r'alpha,theta' )\n",
    "    sig[4], sig[5], sig[6] = show_const( np.matmul(M.T,np.matmul(Fpp,M)), text=r'alpha,beta' )\n",
    "    print('')\n",
    "#np.save('sigma_'+name,sig)"
   ]
  },
  {
   "cell_type": "code",
   "execution_count": null,
   "metadata": {},
   "outputs": [],
   "source": []
  }
 ],
 "metadata": {
  "kernelspec": {
   "display_name": "Python 3",
   "language": "python",
   "name": "python3"
  },
  "language_info": {
   "codemirror_mode": {
    "name": "ipython",
    "version": 3
   },
   "file_extension": ".py",
   "mimetype": "text/x-python",
   "name": "python",
   "nbconvert_exporter": "python",
   "pygments_lexer": "ipython3",
   "version": "3.7.2"
  }
 },
 "nbformat": 4,
 "nbformat_minor": 4
}
